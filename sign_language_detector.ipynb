{
 "cells": [
  {
   "cell_type": "code",
   "execution_count": 1,
   "metadata": {},
   "outputs": [],
   "source": [
    "import numpy as np\n",
    "import pandas as pd\n",
    "import seaborn as sns\n",
    "import string\n",
    "import os\n",
    "import cv2\n",
    "\n",
    "import matplotlib.pyplot as plt\n",
    "%matplotlib inline\n",
    "\n",
    "import torch\n",
    "import torch.nn as nn\n",
    "import torch.nn.functional as F\n",
    "import torch.optim as optim\n",
    "from torchsummary import summary\n",
    "from torch.autograd import Variable"
   ]
  },
  {
   "cell_type": "code",
   "execution_count": 2,
   "metadata": {},
   "outputs": [],
   "source": [
    "train_data_raw = pd.read_csv('./Dataset/sign_mnist_train.csv', sep=\",\")\n",
    "test_data_raw = pd.read_csv('./Dataset/sign_mnist_test.csv', sep=\",\")"
   ]
  },
  {
   "cell_type": "code",
   "execution_count": 3,
   "metadata": {},
   "outputs": [],
   "source": [
    "train_labels = train_data_raw['label']\n",
    "train_data_raw.drop('label', axis=1, inplace=True) # dropping the label column\n",
    "\n",
    "test_labels = test_data_raw['label']\n",
    "test_data_raw.drop('label', axis=1, inplace=True) # dropping the label column"
   ]
  },
  {
   "cell_type": "code",
   "execution_count": 4,
   "metadata": {},
   "outputs": [],
   "source": [
    "train_data = train_data_raw.values\n",
    "train_labels = train_labels.values\n",
    "\n",
    "test_data = test_data_raw.values\n",
    "test_labels = test_labels.values"
   ]
  },
  {
   "cell_type": "code",
   "execution_count": 5,
   "metadata": {},
   "outputs": [
    {
     "data": {
      "text/plain": [
       "{0,\n",
       " 1,\n",
       " 2,\n",
       " 3,\n",
       " 4,\n",
       " 5,\n",
       " 6,\n",
       " 7,\n",
       " 8,\n",
       " 10,\n",
       " 11,\n",
       " 12,\n",
       " 13,\n",
       " 14,\n",
       " 15,\n",
       " 16,\n",
       " 17,\n",
       " 18,\n",
       " 19,\n",
       " 20,\n",
       " 21,\n",
       " 22,\n",
       " 23,\n",
       " 24}"
      ]
     },
     "execution_count": 5,
     "metadata": {},
     "output_type": "execute_result"
    }
   ],
   "source": [
    "set(train_labels) #No  9=J or 25=Z because of gesture motions "
   ]
  },
  {
   "cell_type": "code",
   "execution_count": 6,
   "metadata": {},
   "outputs": [],
   "source": [
    "dim=28"
   ]
  },
  {
   "cell_type": "code",
   "execution_count": 7,
   "metadata": {},
   "outputs": [
    {
     "ename": "ValueError",
     "evalue": "cannot reshape array of size 784 into shape (100,100)",
     "output_type": "error",
     "traceback": [
      "\u001b[0;31m---------------------------------------------------------------------------\u001b[0m",
      "\u001b[0;31mValueError\u001b[0m                                Traceback (most recent call last)",
      "\u001b[0;32m<ipython-input-7-0d0061048525>\u001b[0m in \u001b[0;36m<module>\u001b[0;34m\u001b[0m\n\u001b[0;32m----> 1\u001b[0;31m \u001b[0mpixels\u001b[0m \u001b[0;34m=\u001b[0m \u001b[0mtrain_data\u001b[0m\u001b[0;34m[\u001b[0m\u001b[0;36m20\u001b[0m\u001b[0;34m]\u001b[0m\u001b[0;34m.\u001b[0m\u001b[0mreshape\u001b[0m\u001b[0;34m(\u001b[0m\u001b[0mdim\u001b[0m\u001b[0;34m,\u001b[0m \u001b[0mdim\u001b[0m\u001b[0;34m)\u001b[0m\u001b[0;34m\u001b[0m\u001b[0;34m\u001b[0m\u001b[0m\n\u001b[0m\u001b[1;32m      2\u001b[0m \u001b[0mplt\u001b[0m\u001b[0;34m.\u001b[0m\u001b[0msubplot\u001b[0m\u001b[0;34m(\u001b[0m\u001b[0;36m221\u001b[0m\u001b[0;34m)\u001b[0m\u001b[0;34m\u001b[0m\u001b[0;34m\u001b[0m\u001b[0m\n\u001b[1;32m      3\u001b[0m \u001b[0msns\u001b[0m\u001b[0;34m.\u001b[0m\u001b[0mheatmap\u001b[0m\u001b[0;34m(\u001b[0m\u001b[0mdata\u001b[0m\u001b[0;34m=\u001b[0m\u001b[0mpixels\u001b[0m\u001b[0;34m)\u001b[0m\u001b[0;34m\u001b[0m\u001b[0;34m\u001b[0m\u001b[0m\n\u001b[1;32m      4\u001b[0m \u001b[0;34m\u001b[0m\u001b[0m\n\u001b[1;32m      5\u001b[0m \u001b[0mpixels\u001b[0m \u001b[0;34m=\u001b[0m \u001b[0mtrain_data\u001b[0m\u001b[0;34m[\u001b[0m\u001b[0;36m30\u001b[0m\u001b[0;34m]\u001b[0m\u001b[0;34m.\u001b[0m\u001b[0mreshape\u001b[0m\u001b[0;34m(\u001b[0m\u001b[0mdim\u001b[0m\u001b[0;34m,\u001b[0m \u001b[0mdim\u001b[0m\u001b[0;34m)\u001b[0m\u001b[0;34m\u001b[0m\u001b[0;34m\u001b[0m\u001b[0m\n",
      "\u001b[0;31mValueError\u001b[0m: cannot reshape array of size 784 into shape (100,100)"
     ]
    }
   ],
   "source": [
    "pixels = train_data[20].reshape(dim, dim)\n",
    "plt.subplot(221)\n",
    "sns.heatmap(data=pixels)\n",
    "\n",
    "pixels = train_data[30].reshape(dim, dim)\n",
    "plt.subplot(222)\n",
    "sns.heatmap(data=pixels)"
   ]
  },
  {
   "cell_type": "code",
   "execution_count": null,
   "metadata": {},
   "outputs": [],
   "source": [
    "reshaped_train = []\n",
    "for i in train_data:\n",
    "    reshaped_train.append(i.reshape(1, dim, dim))\n",
    "train_data = np.array(reshaped_train)\n",
    "\n",
    "reshaped_test = []\n",
    "for i in test_data:\n",
    "    reshaped_test.append(i.reshape(1, dim, dim))\n",
    "test_data = np.array(reshaped_train)"
   ]
  },
  {
   "cell_type": "code",
   "execution_count": null,
   "metadata": {},
   "outputs": [],
   "source": [
    "train_x = torch.FloatTensor(train_data)\n",
    "train_y = torch.LongTensor(train_labels.tolist())\n",
    "\n",
    "test_x = torch.FloatTensor(train_data)\n",
    "test_y = torch.LongTensor(train_labels.tolist())"
   ]
  },
  {
   "cell_type": "code",
   "execution_count": null,
   "metadata": {},
   "outputs": [],
   "source": [
    "alph = {0:'a', 1:'b', 2:'c', 3:'d', 4:'e', 5:\"f\", 6:'g', 7:'h', 8:'i', 9:'j', 10:'k', 11:'l', 12:'m', 13:'n',\n",
    "        14:'o', 15:'p', 16:'q', 17:'r', 18:'s', 19:'t', 20:'u', 21:'v', 22:'w', 23:'x', 24:'y', 25:'z'}"
   ]
  },
  {
   "cell_type": "code",
   "execution_count": null,
   "metadata": {},
   "outputs": [],
   "source": [
    "class Network(nn.Module):\n",
    "    def __init__(self):\n",
    "        super(Network, self).__init__()\n",
    "        self.conv1 = nn.Conv2d(1,10,3)\n",
    "        self.conv2 = nn.Conv2d(10,20,3)\n",
    "        self.conv3 = nn.Conv2d(20,30,3)\n",
    "        \n",
    "        self.pool = nn.MaxPool2d(2)\n",
    "        self.dropout = nn.Dropout2d(0.2)\n",
    "        \n",
    "        self.fc1 = nn.Linear(30*3*3, 270)\n",
    "        self.fc2 = nn.Linear(270,26)\n",
    "        \n",
    "        self.softmax = nn.LogSoftmax(dim=1)\n",
    "        \n",
    "    def forward(self,x):\n",
    "        x = self.conv1(x)\n",
    "        x = F.relu(x)\n",
    "        x = self.pool(x)\n",
    "        \n",
    "        x = self.conv2(x)\n",
    "        x = F.relu(x)\n",
    "        x = self.pool(x)\n",
    "        \n",
    "        x = self.conv3(x)\n",
    "        x = F.relu(x)\n",
    "        x = self.dropout(x)\n",
    "        \n",
    "        x = x.view(-1, 30 * 3 * 3)\n",
    "        x = F.relu(self.fc1(x))\n",
    "        x = self.softmax(F.relu(self.fc2(x)))\n",
    "        \n",
    "        return(x)\n",
    "        \n",
    "    def test(self, predictions,labels):\n",
    "        self.eval()\n",
    "        correct = 0\n",
    "        for p,l in zip(predictions,labels):\n",
    "            if p==l:\n",
    "                correct+=1\n",
    "        acc = correct/len(predictions)\n",
    "        return(acc, correct, len(predictions))\n",
    "    \n",
    "    def evaluate(self, predictions,labels):\n",
    "        correct = 0\n",
    "        for p,l in zip(predictions,labels):\n",
    "            if p==l:\n",
    "                correct+=1\n",
    "        acc = correct/len(predictions)\n",
    "        return(acc)"
   ]
  },
  {
   "cell_type": "code",
   "execution_count": null,
   "metadata": {},
   "outputs": [],
   "source": [
    "use_cuda = torch.cuda.is_available()\n",
    "\n",
    "# move model to GPU if CUDA is available\n",
    "if use_cuda:\n",
    "    model = Network().cuda()"
   ]
  },
  {
   "cell_type": "code",
   "execution_count": null,
   "metadata": {},
   "outputs": [],
   "source": [
    "summary(model, (1,dim,dim)) #takes the model and the input tensor shape, displays the output shape"
   ]
  },
  {
   "cell_type": "code",
   "execution_count": null,
   "metadata": {},
   "outputs": [],
   "source": [
    "epochs = 50\n",
    "batch_size = 100\n",
    "learning_rate = 0.001"
   ]
  },
  {
   "cell_type": "code",
   "execution_count": null,
   "metadata": {},
   "outputs": [],
   "source": [
    "optimizer = optim.SGD(model.parameters(), learning_rate, momentum=0.007)\n",
    "criterion = nn.CrossEntropyLoss()"
   ]
  },
  {
   "cell_type": "code",
   "execution_count": null,
   "metadata": {},
   "outputs": [],
   "source": [
    "# def train(epochs, model, optimizer, criterion, use_cuda):\n",
    "#     loss_log = []\n",
    "#     acc_log = []\n",
    "\n",
    "#     for epoch in range(1, epochs+1):\n",
    "#         train_loss = 0.0\n",
    "        \n",
    "#         model.train()\n",
    "        \n",
    "#         for index, data in enumerate(train_data):\n",
    "#             target = train_labels[index]\n",
    "            \n",
    "#             if use_cuda:\n",
    "#                 data.cuda()\n",
    "# #                 target.cuda()\n",
    "                \n",
    "#             optimizer.zero_grad()\n",
    "#             output = model(data)\n",
    "#             loss = criterion(output, target)\n",
    "#             loss.backward()\n",
    "#             optimizer.step()\n",
    "            \n",
    "#             if index%1000==0:\n",
    "#                 loss_log.append(loss.item())\n",
    "#                 acc_log.append(net.evaluate(torch.max(net(Variable(test_x[:500])).data, 1)[1], test_y[:500]))\n",
    "            \n",
    "            \n",
    "#             # print training/validation statistics \n",
    "#             print('Epoch: {} \\tTraining Loss: {:.6f} '.format(\n",
    "#                 epoch, \n",
    "#                 train_loss\n",
    "#                 ))\n",
    "\n",
    "            \n",
    "#     # return trained model\n",
    "#     return model"
   ]
  },
  {
   "cell_type": "code",
   "execution_count": null,
   "metadata": {},
   "outputs": [],
   "source": [
    "# # train the model\n",
    "# model_scratch = train(epochs, model, optimizer, criterion, use_cuda)"
   ]
  },
  {
   "cell_type": "code",
   "execution_count": null,
   "metadata": {},
   "outputs": [],
   "source": [
    "loss_log = []\n",
    "acc_log = []\n",
    "\n",
    "for e in range(80):\n",
    "    for i in range(0, train_x.shape[0], 100):\n",
    "        x_mini = train_x[i:i + 100] \n",
    "        y_mini = train_y[i:i + 100] \n",
    "        \n",
    "        if use_cuda:\n",
    "            x_mini = x_mini.cuda()\n",
    "            y_mini = y_mini.cuda()\n",
    "            test_x = test_x.cuda()\n",
    "            test_y = test_y.cuda()\n",
    "        \n",
    "        optimizer.zero_grad()\n",
    "        net_out = model(Variable(x_mini))\n",
    "        \n",
    "        loss = criterion(net_out, Variable(y_mini))\n",
    "        loss.backward()\n",
    "        optimizer.step()\n",
    "        \n",
    "        if i % 1000 == 0:\n",
    "            #pred = net(Variable(test_data_formated))\n",
    "            loss_log.append(loss.item())\n",
    "            acc_log.append(model.evaluate(torch.max(model(Variable(test_x[:500])).data, 1)[1], test_y[:500]))\n",
    "        \n",
    "    print('Epoch: {} - Loss: {:.6f}'.format(e + 1, loss.item()))"
   ]
  },
  {
   "cell_type": "code",
   "execution_count": null,
   "metadata": {},
   "outputs": [],
   "source": [
    "plt.figure(figsize=(10,8))\n",
    "plt.plot(loss_log[2:])\n",
    "plt.plot(acc_log)\n",
    "plt.plot(np.ones(len(acc_log)), linestyle='dashed')\n",
    "plt.show()"
   ]
  },
  {
   "cell_type": "code",
   "execution_count": null,
   "metadata": {},
   "outputs": [],
   "source": [
    "predictions = model(Variable(test_x))\n",
    "accuracy, correct, total = model.test(torch.max(predictions.data, 1)[1], test_y)"
   ]
  },
  {
   "cell_type": "code",
   "execution_count": null,
   "metadata": {},
   "outputs": [],
   "source": [
    "print(\"Accuracy = \" + str(accuracy) + \" (\"+str(correct)+\"/\"+str(total)+\")\")"
   ]
  },
  {
   "cell_type": "code",
   "execution_count": null,
   "metadata": {},
   "outputs": [],
   "source": [
    "def predict(img_path):\n",
    "    img = cv2.imread(img_path)\n",
    "    img = cv2.cvtColor(img, cv2.COLOR_BGR2GRAY)\n",
    "    img = cv2.resize(img, (dim,dim))\n",
    "    plt.imshow(img, cmap=\"gray\")\n",
    "    img = img.reshape(1,1, dim, dim)\n",
    "    np_img = np.array(img)\n",
    "    input_img = torch.FloatTensor(np_img)\n",
    "    \n",
    "    if use_cuda:\n",
    "        input_img = input_img.cuda()\n",
    "        \n",
    "    pred = model(Variable(input_img))\n",
    "    pred = torch.max(pred.data, 1)[1].cpu().numpy()[0]\n",
    "    return pred"
   ]
  },
  {
   "cell_type": "code",
   "execution_count": null,
   "metadata": {},
   "outputs": [],
   "source": [
    "prediction = predict('./c.jpg')\n",
    "lab = 'c'"
   ]
  },
  {
   "cell_type": "code",
   "execution_count": null,
   "metadata": {},
   "outputs": [],
   "source": [
    "print(\"Prediction: {}\".format(alph[prediction]))\n",
    "print(\"Actual Label: {}\".format(lab))"
   ]
  },
  {
   "cell_type": "code",
   "execution_count": null,
   "metadata": {},
   "outputs": [],
   "source": [
    "# pixels = cv2.imread('./c.jpg').reshape(28, 28)\n",
    "# plt.subplot(223)\n",
    "# sns.heatmap(data=pixels)\n",
    "# lab = 'c'\n",
    "# test_sample = torch.FloatTensor([pixels.reshape(1, 28, 28).tolist()])\n",
    "# pred = model(Variable(input_img))\n",
    "# print(\"Prediction: {}\".format(alph[torch.max(net_out_sample.data, 1)[1].numpy()[0]]))\n",
    "# print(\"Actual Label: {}\".format(lab))\n"
   ]
  }
 ],
 "metadata": {
  "kernelspec": {
   "display_name": "Python 3",
   "language": "python",
   "name": "python3"
  },
  "language_info": {
   "codemirror_mode": {
    "name": "ipython",
    "version": 3
   },
   "file_extension": ".py",
   "mimetype": "text/x-python",
   "name": "python",
   "nbconvert_exporter": "python",
   "pygments_lexer": "ipython3",
   "version": "3.7.3"
  }
 },
 "nbformat": 4,
 "nbformat_minor": 2
}
