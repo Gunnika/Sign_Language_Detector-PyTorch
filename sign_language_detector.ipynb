{
 "cells": [
  {
   "cell_type": "code",
   "execution_count": 1,
   "metadata": {},
   "outputs": [],
   "source": [
    "import numpy as np\n",
    "import pandas as pd\n",
    "import seaborn as sns\n",
    "import string\n",
    "import os\n",
    "import cv2\n",
    "\n",
    "import matplotlib.pyplot as plt\n",
    "%matplotlib inline\n",
    "\n",
    "import torch\n",
    "import torch.nn as nn\n",
    "import torch.nn.functional as F\n",
    "import torch.optim as optim\n",
    "from torchsummary import summary\n",
    "from torch.autograd import Variable"
   ]
  },
  {
   "cell_type": "code",
   "execution_count": 2,
   "metadata": {},
   "outputs": [],
   "source": [
    "train_data_raw = pd.read_csv('./Dataset/sign_mnist_train.csv', sep=\",\")\n",
    "test_data_raw = pd.read_csv('./Dataset/sign_mnist_test.csv', sep=\",\")"
   ]
  },
  {
   "cell_type": "code",
   "execution_count": 3,
   "metadata": {},
   "outputs": [],
   "source": [
    "train_labels = train_data_raw['label']\n",
    "train_data_raw.drop('label', axis=1, inplace=True) # dropping the label column\n",
    "\n",
    "test_labels = test_data_raw['label']\n",
    "test_data_raw.drop('label', axis=1, inplace=True) # dropping the label column"
   ]
  },
  {
   "cell_type": "code",
   "execution_count": 4,
   "metadata": {},
   "outputs": [],
   "source": [
    "train_data = train_data_raw.values\n",
    "train_labels = train_labels.values\n",
    "\n",
    "test_data = test_data_raw.values\n",
    "test_labels = test_labels.values"
   ]
  },
  {
   "cell_type": "code",
   "execution_count": 5,
   "metadata": {},
   "outputs": [
    {
     "data": {
      "text/plain": [
       "{0,\n",
       " 1,\n",
       " 2,\n",
       " 3,\n",
       " 4,\n",
       " 5,\n",
       " 6,\n",
       " 7,\n",
       " 8,\n",
       " 10,\n",
       " 11,\n",
       " 12,\n",
       " 13,\n",
       " 14,\n",
       " 15,\n",
       " 16,\n",
       " 17,\n",
       " 18,\n",
       " 19,\n",
       " 20,\n",
       " 21,\n",
       " 22,\n",
       " 23,\n",
       " 24}"
      ]
     },
     "execution_count": 5,
     "metadata": {},
     "output_type": "execute_result"
    }
   ],
   "source": [
    "set(train_labels) #No  9=J or 25=Z because of gesture motions "
   ]
  },
  {
   "cell_type": "code",
   "execution_count": 6,
   "metadata": {},
   "outputs": [],
   "source": [
    "dim=28"
   ]
  },
  {
   "cell_type": "code",
   "execution_count": 7,
   "metadata": {},
   "outputs": [
    {
     "data": {
      "text/plain": [
       "<matplotlib.axes._subplots.AxesSubplot at 0x7fb7edbc49b0>"
      ]
     },
     "execution_count": 7,
     "metadata": {},
     "output_type": "execute_result"
    },
    {
     "data": {
      "image/png": "[encoded data removed]",
      "text/plain": [
       "<Figure size 432x288 with 4 Axes>"
      ]
     },
     "metadata": {
      "needs_background": "light"
     },
     "output_type": "display_data"
    }
   ],
   "source": [
    "pixels = train_data[20].reshape(dim, dim)\n",
    "plt.subplot(221)\n",
    "sns.heatmap(data=pixels)\n",
    "\n",
    "pixels = train_data[30].reshape(dim, dim)\n",
    "plt.subplot(222)\n",
    "sns.heatmap(data=pixels)"
   ]
  },
  {
   "cell_type": "code",
   "execution_count": 8,
   "metadata": {},
   "outputs": [],
   "source": [
    "reshaped_train = []\n",
    "for i in train_data:\n",
    "    reshaped_train.append(i.reshape(1, dim, dim))\n",
    "train_data = np.array(reshaped_train)\n",
    "\n",
    "reshaped_test = []\n",
    "for i in test_data:\n",
    "    reshaped_test.append(i.reshape(1, dim, dim))\n",
    "test_data = np.array(reshaped_train)"
   ]
  },
  {
   "cell_type": "code",
   "execution_count": 9,
   "metadata": {},
   "outputs": [],
   "source": [
    "train_x = torch.FloatTensor(train_data)\n",
    "train_y = torch.LongTensor(train_labels.tolist())\n",
    "\n",
    "test_x = torch.FloatTensor(train_data)\n",
    "test_y = torch.LongTensor(train_labels.tolist())"
   ]
  },
  {
   "cell_type": "code",
   "execution_count": 80,
   "metadata": {},
   "outputs": [],
   "source": [
    "alph = {0: 'A', 1: 'B', 2: 'C', 3: 'D', 4: 'E', 5: 'F', 6: 'G', 7: 'H', 8: 'I',\n",
    "        10: 'K', 11: 'L', 12: 'M', 13: 'N', 14: 'O', 15: 'P', 16: 'Q', 17: 'R',\n",
    "        18: 'S', 19: 'T', 20: 'U', 21: 'V', 22: 'W', 23: 'X', 24: 'Y' }"
   ]
  },
  {
   "cell_type": "code",
   "execution_count": 11,
   "metadata": {},
   "outputs": [],
   "source": [
    "class Network(nn.Module):\n",
    "    def __init__(self):\n",
    "        super(Network, self).__init__()\n",
    "        self.conv1 = nn.Conv2d(1,10,3)\n",
    "        self.conv2 = nn.Conv2d(10,20,3)\n",
    "        self.conv3 = nn.Conv2d(20,30,3)\n",
    "        \n",
    "        self.pool = nn.MaxPool2d(2)\n",
    "        self.dropout = nn.Dropout2d(0.2)\n",
    "        \n",
    "        self.fc1 = nn.Linear(30*3*3, 270)\n",
    "        self.fc2 = nn.Linear(270,26)\n",
    "        \n",
    "        self.softmax = nn.LogSoftmax(dim=1)\n",
    "        \n",
    "    def forward(self,x):\n",
    "        x = self.conv1(x)\n",
    "        x = F.relu(x)\n",
    "        x = self.pool(x)\n",
    "        \n",
    "        x = self.conv2(x)\n",
    "        x = F.relu(x)\n",
    "        x = self.pool(x)\n",
    "        \n",
    "        x = self.conv3(x)\n",
    "        x = F.relu(x)\n",
    "        x = self.dropout(x)\n",
    "        \n",
    "        x = x.view(-1, 30 * 3 * 3)\n",
    "        x = F.relu(self.fc1(x))\n",
    "        x = self.softmax(F.relu(self.fc2(x)))\n",
    "        \n",
    "        return(x)\n",
    "        \n",
    "    def test(self, predictions,labels):\n",
    "        self.eval()\n",
    "        correct = 0\n",
    "        for p,l in zip(predictions,labels):\n",
    "            if p==l:\n",
    "                correct+=1\n",
    "        acc = correct/len(predictions)\n",
    "        return(acc, correct, len(predictions))\n",
    "    \n",
    "    def evaluate(self, predictions,labels):\n",
    "        correct = 0\n",
    "        for p,l in zip(predictions,labels):\n",
    "            if p==l:\n",
    "                correct+=1\n",
    "        acc = correct/len(predictions)\n",
    "        return(acc)"
   ]
  },
  {
   "cell_type": "code",
   "execution_count": 12,
   "metadata": {},
   "outputs": [],
   "source": [
    "use_cuda = torch.cuda.is_available()\n",
    "\n",
    "# move model to GPU if CUDA is available\n",
    "if use_cuda:\n",
    "    model = Network().cuda()"
   ]
  },
  {
   "cell_type": "code",
   "execution_count": 13,
   "metadata": {},
   "outputs": [
    {
     "name": "stdout",
     "output_type": "stream",
     "text": [
      "----------------------------------------------------------------\n",
      "        Layer (type)               Output Shape         Param #\n",
      "================================================================\n",
      "            Conv2d-1           [-1, 10, 26, 26]             100\n",
      "         MaxPool2d-2           [-1, 10, 13, 13]               0\n",
      "            Conv2d-3           [-1, 20, 11, 11]           1,820\n",
      "         MaxPool2d-4             [-1, 20, 5, 5]               0\n",
      "            Conv2d-5             [-1, 30, 3, 3]           5,430\n",
      "         Dropout2d-6             [-1, 30, 3, 3]               0\n",
      "            Linear-7                  [-1, 270]          73,170\n",
      "            Linear-8                   [-1, 26]           7,046\n",
      "        LogSoftmax-9                   [-1, 26]               0\n",
      "================================================================\n",
      "Total params: 87,566\n",
      "Trainable params: 87,566\n",
      "Non-trainable params: 0\n",
      "----------------------------------------------------------------\n",
      "Input size (MB): 0.00\n",
      "Forward/backward pass size (MB): 0.09\n",
      "Params size (MB): 0.33\n",
      "Estimated Total Size (MB): 0.43\n",
      "----------------------------------------------------------------\n"
     ]
    }
   ],
   "source": [
    "summary(model, (1,dim,dim)) #takes the model and the input tensor shape, displays the output shape"
   ]
  },
  {
   "cell_type": "code",
   "execution_count": 14,
   "metadata": {},
   "outputs": [],
   "source": [
    "epochs = 50\n",
    "batch_size = 100\n",
    "learning_rate = 0.001"
   ]
  },
  {
   "cell_type": "code",
   "execution_count": 15,
   "metadata": {},
   "outputs": [],
   "source": [
    "optimizer = optim.SGD(model.parameters(), learning_rate, momentum=0.007)\n",
    "criterion = nn.CrossEntropyLoss()"
   ]
  },
  {
   "cell_type": "code",
   "execution_count": null,
   "metadata": {},
   "outputs": [],
   "source": [
    "# def train(epochs, model, optimizer, criterion, use_cuda):\n",
    "#     loss_log = []\n",
    "#     acc_log = []\n",
    "\n",
    "#     for epoch in range(1, epochs+1):\n",
    "#         train_loss = 0.0\n",
    "        \n",
    "#         model.train()\n",
    "        \n",
    "#         for index, data in enumerate(train_data):\n",
    "#             target = train_labels[index]\n",
    "            \n",
    "#             if use_cuda:\n",
    "#                 data.cuda()\n",
    "# #                 target.cuda()\n",
    "                \n",
    "#             optimizer.zero_grad()\n",
    "#             output = model(data)\n",
    "#             loss = criterion(output, target)\n",
    "#             loss.backward()\n",
    "#             optimizer.step()\n",
    "            \n",
    "#             if index%1000==0:\n",
    "#                 loss_log.append(loss.item())\n",
    "#                 acc_log.append(net.evaluate(torch.max(net(Variable(test_x[:500])).data, 1)[1], test_y[:500]))\n",
    "            \n",
    "            \n",
    "#             # print training/validation statistics \n",
    "#             print('Epoch: {} \\tTraining Loss: {:.6f} '.format(\n",
    "#                 epoch, \n",
    "#                 train_loss\n",
    "#                 ))\n",
    "\n",
    "            \n",
    "#     # return trained model\n",
    "#     return model"
   ]
  },
  {
   "cell_type": "code",
   "execution_count": null,
   "metadata": {},
   "outputs": [],
   "source": [
    "# # train the model\n",
    "# model_scratch = train(epochs, model, optimizer, criterion, use_cuda)"
   ]
  },
  {
   "cell_type": "code",
   "execution_count": 16,
   "metadata": {},
   "outputs": [
    {
     "name": "stdout",
     "output_type": "stream",
     "text": [
      "Epoch: 1 - Loss: 3.171004\n",
      "Epoch: 2 - Loss: 2.928471\n",
      "Epoch: 3 - Loss: 2.747584\n",
      "Epoch: 4 - Loss: 2.216086\n",
      "Epoch: 5 - Loss: 1.716320\n",
      "Epoch: 6 - Loss: 1.344784\n",
      "Epoch: 7 - Loss: 0.993603\n",
      "Epoch: 8 - Loss: 0.987541\n",
      "Epoch: 9 - Loss: 0.759723\n",
      "Epoch: 10 - Loss: 0.620595\n",
      "Epoch: 11 - Loss: 0.631502\n",
      "Epoch: 12 - Loss: 0.622687\n",
      "Epoch: 13 - Loss: 0.432498\n",
      "Epoch: 14 - Loss: 0.470578\n",
      "Epoch: 15 - Loss: 0.418309\n",
      "Epoch: 16 - Loss: 0.399430\n",
      "Epoch: 17 - Loss: 0.320283\n",
      "Epoch: 18 - Loss: 0.349432\n",
      "Epoch: 19 - Loss: 0.215379\n",
      "Epoch: 20 - Loss: 0.231829\n",
      "Epoch: 21 - Loss: 0.165634\n",
      "Epoch: 22 - Loss: 0.174026\n",
      "Epoch: 23 - Loss: 0.198509\n",
      "Epoch: 24 - Loss: 0.165262\n",
      "Epoch: 25 - Loss: 0.117323\n",
      "Epoch: 26 - Loss: 0.219265\n",
      "Epoch: 27 - Loss: 0.122914\n",
      "Epoch: 28 - Loss: 0.127848\n",
      "Epoch: 29 - Loss: 0.088561\n",
      "Epoch: 30 - Loss: 0.069623\n",
      "Epoch: 31 - Loss: 0.089962\n",
      "Epoch: 32 - Loss: 0.135089\n",
      "Epoch: 33 - Loss: 0.091101\n",
      "Epoch: 34 - Loss: 0.042823\n",
      "Epoch: 35 - Loss: 0.107452\n",
      "Epoch: 36 - Loss: 0.066240\n",
      "Epoch: 37 - Loss: 0.106593\n",
      "Epoch: 38 - Loss: 0.013147\n",
      "Epoch: 39 - Loss: 0.088832\n",
      "Epoch: 40 - Loss: 0.128938\n",
      "Epoch: 41 - Loss: 0.055951\n",
      "Epoch: 42 - Loss: 0.097975\n",
      "Epoch: 43 - Loss: 0.182263\n",
      "Epoch: 44 - Loss: 0.155727\n",
      "Epoch: 45 - Loss: 0.010911\n",
      "Epoch: 46 - Loss: 0.157622\n",
      "Epoch: 47 - Loss: 0.021051\n",
      "Epoch: 48 - Loss: 0.069778\n",
      "Epoch: 49 - Loss: 0.032645\n",
      "Epoch: 50 - Loss: 0.010746\n"
     ]
    }
   ],
   "source": [
    "loss_log = []\n",
    "acc_log = []\n",
    "\n",
    "for e in range(epochs):\n",
    "    for i in range(0, train_x.shape[0], 100):\n",
    "        x_mini = train_x[i:i + 100] \n",
    "        y_mini = train_y[i:i + 100] \n",
    "        \n",
    "        if use_cuda:\n",
    "            x_mini = x_mini.cuda()\n",
    "            y_mini = y_mini.cuda()\n",
    "            test_x = test_x.cuda()\n",
    "            test_y = test_y.cuda()\n",
    "        \n",
    "        optimizer.zero_grad()\n",
    "        net_out = model(Variable(x_mini))\n",
    "        \n",
    "        loss = criterion(net_out, Variable(y_mini))\n",
    "        loss.backward()\n",
    "        optimizer.step()\n",
    "        \n",
    "        if i % 1000 == 0:\n",
    "            #pred = net(Variable(test_data_formated))\n",
    "            loss_log.append(loss.item())\n",
    "            acc_log.append(model.evaluate(torch.max(model(Variable(test_x[:500])).data, 1)[1], test_y[:500]))\n",
    "        \n",
    "    print('Epoch: {} - Loss: {:.6f}'.format(e + 1, loss.item()))"
   ]
  },
  {
   "cell_type": "code",
   "execution_count": 17,
   "metadata": {},
   "outputs": [
    {
     "data": {
      "image/png": "[encoded data removed]",
      "text/plain": [
       "<Figure size 720x576 with 1 Axes>"
      ]
     },
     "metadata": {
      "needs_background": "light"
     },
     "output_type": "display_data"
    }
   ],
   "source": [
    "plt.figure(figsize=(10,8))\n",
    "plt.plot(loss_log[2:])\n",
    "plt.plot(acc_log)\n",
    "plt.plot(np.ones(len(acc_log)), linestyle='dashed')\n",
    "plt.show()"
   ]
  },
  {
   "cell_type": "code",
   "execution_count": 18,
   "metadata": {},
   "outputs": [],
   "source": [
    "predictions = model(Variable(test_x))\n",
    "accuracy, correct, total = model.test(torch.max(predictions.data, 1)[1], test_y)"
   ]
  },
  {
   "cell_type": "code",
   "execution_count": 19,
   "metadata": {},
   "outputs": [
    {
     "name": "stdout",
     "output_type": "stream",
     "text": [
      "Accuracy = 0.9848479329812421 (27039/27455)\n"
     ]
    }
   ],
   "source": [
    "print(\"Accuracy = \" + str(accuracy) + \" (\"+str(correct)+\"/\"+str(total)+\")\")"
   ]
  },
  {
   "cell_type": "code",
   "execution_count": null,
   "metadata": {},
   "outputs": [],
   "source": [
    "# def predict(img_path):\n",
    "#     img = cv2.imread(img_path)\n",
    "#     img = cv2.cvtColor(img, cv2.COLOR_BGR2GRAY)\n",
    "#     img = cv2.resize(img, (dim,dim))\n",
    "#     plt.imshow(img, cmap=\"gray\")\n",
    "#     img = img.reshape(1,1, dim, dim)\n",
    "#     np_img = np.array(img)\n",
    "#     input_img = torch.FloatTensor(np_img)\n",
    "    \n",
    "#     if use_cuda:\n",
    "#         input_img = input_img.cuda()\n",
    "        \n",
    "#     pred = model(Variable(input_img))\n",
    "#     pred = torch.max(pred.data, 1)[1].cpu().numpy()[0]\n",
    "#     return pred"
   ]
  },
  {
   "cell_type": "code",
   "execution_count": 85,
   "metadata": {},
   "outputs": [],
   "source": [
    "def predictor(img_path):  \n",
    "#     img = cv2.imread(img_path)\n",
    "#     grey = cv2.cvtColor(img, cv2.COLOR_BGR2GRAY)\n",
    "#     res = cv2.resize(img, dsize=(28, 28))\n",
    "#     test_img = torch.FloatTensor(grey)\n",
    "#     predictions = model(Variable(test_img))\n",
    "#     pred = torch.max(predictions.data, 1)[1]\n",
    "    \n",
    "    img = cv2.imread(img_path)\n",
    "    res = cv2.resize(img, dsize=(28, 28))\n",
    "#     res = cv2.resize(img, dsize=(28, 28), interpolation = cv2.INTER_CUBIC)\n",
    "    res = cv2.cvtColor(res, cv2.COLOR_BGR2GRAY)\n",
    "\n",
    "    res1 = np.reshape(res, (1, 1, 28, 28)) / 255\n",
    "    res1 = torch.from_numpy(res1)\n",
    "    res1 = res1.type(torch.FloatTensor)\n",
    "    if use_cuda:\n",
    "        res1 = res1.cuda() \n",
    "    out = model(res1)\n",
    "    # Probabilidades\n",
    "    probs, label = torch.topk(out, 25)\n",
    "    probs = torch.nn.functional.softmax(probs, 1)\n",
    "\n",
    "    pred = out.max(1, keepdim=True)[1].cpu().numpy()[0]\n",
    "\n",
    "    if float(probs[0,0]) < 0.4:\n",
    "        texto_mostrar = 'Sign not detected'\n",
    "    else:\n",
    "        texto_mostrar = signs[str(int(pred))] + ': ' + '{:.2f}'.format(float(probs[0,0])) + '%'\n",
    "        \n",
    "    return pred"
   ]
  },
  {
   "cell_type": "code",
   "execution_count": 89,
   "metadata": {},
   "outputs": [],
   "source": [
    "prediction = predictor('Inference_Images/a.jpg')\n",
    "lab = 'A'"
   ]
  },
  {
   "cell_type": "code",
   "execution_count": 90,
   "metadata": {},
   "outputs": [
    {
     "data": {
      "text/plain": [
       "10"
      ]
     },
     "execution_count": 90,
     "metadata": {},
     "output_type": "execute_result"
    }
   ],
   "source": [
    "prediction[0] "
   ]
  },
  {
   "cell_type": "code",
   "execution_count": 91,
   "metadata": {},
   "outputs": [
    {
     "name": "stdout",
     "output_type": "stream",
     "text": [
      "Prediction: K\n",
      "Actual Label: C\n"
     ]
    }
   ],
   "source": [
    "print(\"Prediction: {}\".format(alph[prediction[0]]))\n",
    "print(\"Actual Label: {}\".format(lab))"
   ]
  },
  {
   "cell_type": "code",
   "execution_count": null,
   "metadata": {},
   "outputs": [],
   "source": [
    "# pixels = cv2.imread('./c.jpg').reshape(28, 28)\n",
    "# plt.subplot(223)\n",
    "# sns.heatmap(data=pixels)\n",
    "# lab = 'c'\n",
    "# test_sample = torch.FloatTensor([pixels.reshape(1, 28, 28).tolist()])\n",
    "# pred = model(Variable(input_img))\n",
    "# print(\"Prediction: {}\".format(alph[torch.max(net_out_sample.data, 1)[1].numpy()[0]]))\n",
    "# print(\"Actual Label: {}\".format(lab))\n"
   ]
  },
  {
   "cell_type": "code",
   "execution_count": null,
   "metadata": {},
   "outputs": [],
   "source": []
  }
 ],
 "metadata": {
  "kernelspec": {
   "display_name": "Python 3",
   "language": "python",
   "name": "python3"
  },
  "language_info": {
   "codemirror_mode": {
    "name": "ipython",
    "version": 3
   },
   "file_extension": ".py",
   "mimetype": "text/x-python",
   "name": "python",
   "nbconvert_exporter": "python",
   "pygments_lexer": "ipython3",
   "version": "3.7.3"
  }
 },
 "nbformat": 4,
 "nbformat_minor": 2
}
