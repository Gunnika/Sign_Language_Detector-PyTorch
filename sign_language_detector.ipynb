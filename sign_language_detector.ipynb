{
 "cells": [
  {
   "cell_type": "code",
   "execution_count": 1,
   "metadata": {},
   "outputs": [],
   "source": [
    "import numpy as np\n",
    "import pandas as pd\n",
    "import seaborn as sns\n",
    "\n",
    "import matplotlib.pyplot as plt\n",
    "%matplotlib inline\n",
    "\n",
    "import torch\n",
    "import torch.nn as nn\n",
    "import torch.nn.functional as F\n",
    "import torch.optim as optim\n",
    "from torchsummary import summary"
   ]
  },
  {
   "cell_type": "code",
   "execution_count": 2,
   "metadata": {},
   "outputs": [],
   "source": [
    "train_data_raw = pd.read_csv('./Dataset/sign_mnist_train.csv', sep=\",\")\n",
    "test_data_raw = pd.read_csv('./Dataset/sign_mnist_test.csv', sep=\",\")"
   ]
  },
  {
   "cell_type": "code",
   "execution_count": 3,
   "metadata": {},
   "outputs": [
    {
     "data": {
      "text/html": [
       "<div>\n",
       "<style scoped>\n",
       "    .dataframe tbody tr th:only-of-type {\n",
       "        vertical-align: middle;\n",
       "    }\n",
       "\n",
       "    .dataframe tbody tr th {\n",
       "        vertical-align: top;\n",
       "    }\n",
       "\n",
       "    .dataframe thead th {\n",
       "        text-align: right;\n",
       "    }\n",
       "</style>\n",
       "<table border=\"1\" class=\"dataframe\">\n",
       "  <thead>\n",
       "    <tr style=\"text-align: right;\">\n",
       "      <th></th>\n",
       "      <th>label</th>\n",
       "      <th>pixel1</th>\n",
       "      <th>pixel2</th>\n",
       "      <th>pixel3</th>\n",
       "      <th>pixel4</th>\n",
       "      <th>pixel5</th>\n",
       "      <th>pixel6</th>\n",
       "      <th>pixel7</th>\n",
       "      <th>pixel8</th>\n",
       "      <th>pixel9</th>\n",
       "      <th>...</th>\n",
       "      <th>pixel775</th>\n",
       "      <th>pixel776</th>\n",
       "      <th>pixel777</th>\n",
       "      <th>pixel778</th>\n",
       "      <th>pixel779</th>\n",
       "      <th>pixel780</th>\n",
       "      <th>pixel781</th>\n",
       "      <th>pixel782</th>\n",
       "      <th>pixel783</th>\n",
       "      <th>pixel784</th>\n",
       "    </tr>\n",
       "  </thead>\n",
       "  <tbody>\n",
       "    <tr>\n",
       "      <th>0</th>\n",
       "      <td>3</td>\n",
       "      <td>107</td>\n",
       "      <td>118</td>\n",
       "      <td>127</td>\n",
       "      <td>134</td>\n",
       "      <td>139</td>\n",
       "      <td>143</td>\n",
       "      <td>146</td>\n",
       "      <td>150</td>\n",
       "      <td>153</td>\n",
       "      <td>...</td>\n",
       "      <td>207</td>\n",
       "      <td>207</td>\n",
       "      <td>207</td>\n",
       "      <td>207</td>\n",
       "      <td>206</td>\n",
       "      <td>206</td>\n",
       "      <td>206</td>\n",
       "      <td>204</td>\n",
       "      <td>203</td>\n",
       "      <td>202</td>\n",
       "    </tr>\n",
       "    <tr>\n",
       "      <th>1</th>\n",
       "      <td>6</td>\n",
       "      <td>155</td>\n",
       "      <td>157</td>\n",
       "      <td>156</td>\n",
       "      <td>156</td>\n",
       "      <td>156</td>\n",
       "      <td>157</td>\n",
       "      <td>156</td>\n",
       "      <td>158</td>\n",
       "      <td>158</td>\n",
       "      <td>...</td>\n",
       "      <td>69</td>\n",
       "      <td>149</td>\n",
       "      <td>128</td>\n",
       "      <td>87</td>\n",
       "      <td>94</td>\n",
       "      <td>163</td>\n",
       "      <td>175</td>\n",
       "      <td>103</td>\n",
       "      <td>135</td>\n",
       "      <td>149</td>\n",
       "    </tr>\n",
       "    <tr>\n",
       "      <th>2</th>\n",
       "      <td>2</td>\n",
       "      <td>187</td>\n",
       "      <td>188</td>\n",
       "      <td>188</td>\n",
       "      <td>187</td>\n",
       "      <td>187</td>\n",
       "      <td>186</td>\n",
       "      <td>187</td>\n",
       "      <td>188</td>\n",
       "      <td>187</td>\n",
       "      <td>...</td>\n",
       "      <td>202</td>\n",
       "      <td>201</td>\n",
       "      <td>200</td>\n",
       "      <td>199</td>\n",
       "      <td>198</td>\n",
       "      <td>199</td>\n",
       "      <td>198</td>\n",
       "      <td>195</td>\n",
       "      <td>194</td>\n",
       "      <td>195</td>\n",
       "    </tr>\n",
       "    <tr>\n",
       "      <th>3</th>\n",
       "      <td>2</td>\n",
       "      <td>211</td>\n",
       "      <td>211</td>\n",
       "      <td>212</td>\n",
       "      <td>212</td>\n",
       "      <td>211</td>\n",
       "      <td>210</td>\n",
       "      <td>211</td>\n",
       "      <td>210</td>\n",
       "      <td>210</td>\n",
       "      <td>...</td>\n",
       "      <td>235</td>\n",
       "      <td>234</td>\n",
       "      <td>233</td>\n",
       "      <td>231</td>\n",
       "      <td>230</td>\n",
       "      <td>226</td>\n",
       "      <td>225</td>\n",
       "      <td>222</td>\n",
       "      <td>229</td>\n",
       "      <td>163</td>\n",
       "    </tr>\n",
       "    <tr>\n",
       "      <th>4</th>\n",
       "      <td>13</td>\n",
       "      <td>164</td>\n",
       "      <td>167</td>\n",
       "      <td>170</td>\n",
       "      <td>172</td>\n",
       "      <td>176</td>\n",
       "      <td>179</td>\n",
       "      <td>180</td>\n",
       "      <td>184</td>\n",
       "      <td>185</td>\n",
       "      <td>...</td>\n",
       "      <td>92</td>\n",
       "      <td>105</td>\n",
       "      <td>105</td>\n",
       "      <td>108</td>\n",
       "      <td>133</td>\n",
       "      <td>163</td>\n",
       "      <td>157</td>\n",
       "      <td>163</td>\n",
       "      <td>164</td>\n",
       "      <td>179</td>\n",
       "    </tr>\n",
       "  </tbody>\n",
       "</table>\n",
       "<p>5 rows × 785 columns</p>\n",
       "</div>"
      ],
      "text/plain": [
       "   label  pixel1  pixel2  pixel3  pixel4  pixel5  pixel6  pixel7  pixel8  \\\n",
       "0      3     107     118     127     134     139     143     146     150   \n",
       "1      6     155     157     156     156     156     157     156     158   \n",
       "2      2     187     188     188     187     187     186     187     188   \n",
       "3      2     211     211     212     212     211     210     211     210   \n",
       "4     13     164     167     170     172     176     179     180     184   \n",
       "\n",
       "   pixel9  ...  pixel775  pixel776  pixel777  pixel778  pixel779  pixel780  \\\n",
       "0     153  ...       207       207       207       207       206       206   \n",
       "1     158  ...        69       149       128        87        94       163   \n",
       "2     187  ...       202       201       200       199       198       199   \n",
       "3     210  ...       235       234       233       231       230       226   \n",
       "4     185  ...        92       105       105       108       133       163   \n",
       "\n",
       "   pixel781  pixel782  pixel783  pixel784  \n",
       "0       206       204       203       202  \n",
       "1       175       103       135       149  \n",
       "2       198       195       194       195  \n",
       "3       225       222       229       163  \n",
       "4       157       163       164       179  \n",
       "\n",
       "[5 rows x 785 columns]"
      ]
     },
     "execution_count": 3,
     "metadata": {},
     "output_type": "execute_result"
    }
   ],
   "source": [
    "train_data_raw.head()"
   ]
  },
  {
   "cell_type": "code",
   "execution_count": 4,
   "metadata": {},
   "outputs": [],
   "source": [
    "train_labels = train_data_raw['label']\n",
    "train_data_raw.drop('label', axis=1, inplace=True) # dropping the label column\n",
    "\n",
    "test_labels = test_data_raw['label']\n",
    "test_data_raw.drop('label', axis=1, inplace=True) # dropping the label column"
   ]
  },
  {
   "cell_type": "code",
   "execution_count": 5,
   "metadata": {},
   "outputs": [
    {
     "data": {
      "text/plain": [
       "(27455,)"
      ]
     },
     "execution_count": 5,
     "metadata": {},
     "output_type": "execute_result"
    }
   ],
   "source": [
    "train_labels.shape"
   ]
  },
  {
   "cell_type": "code",
   "execution_count": 6,
   "metadata": {},
   "outputs": [],
   "source": [
    "train_data = train_data_raw.values\n",
    "train_labels = train_labels.values\n",
    "\n",
    "test_data = test_data_raw.values\n",
    "test_labels = test_labels.values"
   ]
  },
  {
   "cell_type": "code",
   "execution_count": 7,
   "metadata": {},
   "outputs": [
    {
     "data": {
      "text/plain": [
       "(27455,)"
      ]
     },
     "execution_count": 7,
     "metadata": {},
     "output_type": "execute_result"
    }
   ],
   "source": [
    "train_labels.shape"
   ]
  },
  {
   "cell_type": "code",
   "execution_count": 8,
   "metadata": {},
   "outputs": [
    {
     "data": {
      "text/plain": [
       "<matplotlib.axes._subplots.AxesSubplot at 0x7f394d249eb8>"
      ]
     },
     "execution_count": 8,
     "metadata": {},
     "output_type": "execute_result"
    },
    {
     "data": {
      "image/png": "[encoded data removed]",
      "text/plain": [
       "<Figure size 432x288 with 4 Axes>"
      ]
     },
     "metadata": {
      "needs_background": "light"
     },
     "output_type": "display_data"
    }
   ],
   "source": [
    "pixels = train_data[20].reshape(28, 28)\n",
    "plt.subplot(221)\n",
    "sns.heatmap(data=pixels)\n",
    "\n",
    "pixels = train_data[30].reshape(28, 28)\n",
    "plt.subplot(222)\n",
    "sns.heatmap(data=pixels)"
   ]
  },
  {
   "cell_type": "code",
   "execution_count": 9,
   "metadata": {},
   "outputs": [],
   "source": [
    "reshaped_train = []\n",
    "for i in train_data:\n",
    "    reshaped_train.append(i.reshape(1, 28, 28))\n",
    "train_data = np.array(reshaped_train)\n",
    "\n",
    "reshaped_test = []\n",
    "for i in test_data:\n",
    "    reshaped_test.append(i.reshape(1, 28, 28))\n",
    "test_data = np.array(reshaped_train)"
   ]
  },
  {
   "cell_type": "code",
   "execution_count": 10,
   "metadata": {},
   "outputs": [],
   "source": [
    "train_x = torch.FloatTensor(train_data)\n",
    "train_y = torch.LongTensor(train_labels.tolist())\n",
    "\n",
    "test_x = torch.FloatTensor(train_data)\n",
    "test_y = torch.LongTensor(train_labels.tolist())"
   ]
  },
  {
   "cell_type": "code",
   "execution_count": 11,
   "metadata": {},
   "outputs": [],
   "source": [
    "class Network(nn.Module):\n",
    "    def __init__(self):\n",
    "        super(Network, self).__init__()\n",
    "        self.conv1 = nn.Conv2d(1,10,3)\n",
    "        self.conv2 = nn.Conv2d(10,20,3)\n",
    "        self.conv3 = nn.Conv2d(20,30,3)\n",
    "        \n",
    "        self.pool = nn.MaxPool2d(2)\n",
    "        self.dropout = nn.Dropout2d(0.2)\n",
    "        \n",
    "        self.fc1 = nn.Linear(30*3*3, 270)\n",
    "        self.fc2 = nn.Linear(270,26)\n",
    "        \n",
    "        self.softmax = nn.LogSoftmax(dim=1)\n",
    "        \n",
    "    def forward(self,x):\n",
    "        x = self.conv1(x)\n",
    "        x = F.relu(x)\n",
    "        x = self.pool(x)\n",
    "        \n",
    "        x = self.conv2(x)\n",
    "        x = F.relu(x)\n",
    "        x = self.pool(x)\n",
    "        \n",
    "        x = self.conv3(x)\n",
    "        x = F.relu(x)\n",
    "        x = self.dropout(x)\n",
    "        \n",
    "        x = x.view(-1, 30 * 3 * 3)\n",
    "        x = F.relu(self.fc1(x))\n",
    "        x = self.softmax(F.relu(self.fc2(x)))\n",
    "        \n",
    "        return(x)\n",
    "        \n",
    "    def test(self, predictions,labels):\n",
    "        self.eval()\n",
    "        correct = 0\n",
    "        for p,l in zip(predictions,labels):\n",
    "            if p==l:\n",
    "                correct+=1\n",
    "        acc = correct/len(predictions)\n",
    "        return(acc)\n",
    "    \n",
    "    def evaluate(self, predictions,labels):\n",
    "        correct = 0\n",
    "        for p,l in zip(predictions,labels):\n",
    "            if p==l:\n",
    "                correct+=1\n",
    "        acc = correct/len(predictions)\n",
    "        return(acc)"
   ]
  },
  {
   "cell_type": "code",
   "execution_count": 12,
   "metadata": {},
   "outputs": [],
   "source": [
    "use_cuda = torch.cuda.is_available()\n",
    "\n",
    "# move model to GPU if CUDA is available\n",
    "if use_cuda:\n",
    "    model = Network().cuda()"
   ]
  },
  {
   "cell_type": "code",
   "execution_count": 13,
   "metadata": {},
   "outputs": [
    {
     "name": "stdout",
     "output_type": "stream",
     "text": [
      "----------------------------------------------------------------\n",
      "        Layer (type)               Output Shape         Param #\n",
      "================================================================\n",
      "            Conv2d-1           [-1, 10, 26, 26]             100\n",
      "         MaxPool2d-2           [-1, 10, 13, 13]               0\n",
      "            Conv2d-3           [-1, 20, 11, 11]           1,820\n",
      "         MaxPool2d-4             [-1, 20, 5, 5]               0\n",
      "            Conv2d-5             [-1, 30, 3, 3]           5,430\n",
      "         Dropout2d-6             [-1, 30, 3, 3]               0\n",
      "            Linear-7                  [-1, 270]          73,170\n",
      "            Linear-8                   [-1, 26]           7,046\n",
      "        LogSoftmax-9                   [-1, 26]               0\n",
      "================================================================\n",
      "Total params: 87,566\n",
      "Trainable params: 87,566\n",
      "Non-trainable params: 0\n",
      "----------------------------------------------------------------\n",
      "Input size (MB): 0.00\n",
      "Forward/backward pass size (MB): 0.09\n",
      "Params size (MB): 0.33\n",
      "Estimated Total Size (MB): 0.43\n",
      "----------------------------------------------------------------\n"
     ]
    }
   ],
   "source": [
    "summary(model, (1,28,28)) #takes the model and the input tensor shape, displays the output shape/"
   ]
  },
  {
   "cell_type": "code",
   "execution_count": 14,
   "metadata": {},
   "outputs": [],
   "source": [
    "epochs = 50\n",
    "batch_size = 100\n",
    "learning_rate = 0.001"
   ]
  },
  {
   "cell_type": "code",
   "execution_count": 15,
   "metadata": {},
   "outputs": [],
   "source": [
    "optimizer = optim.SGD(model.parameters(), learning_rate, momentum=0.007)\n",
    "criterion = nn.CrossEntropyLoss()"
   ]
  },
  {
   "cell_type": "code",
   "execution_count": 16,
   "metadata": {},
   "outputs": [],
   "source": [
    "# def train(epochs, model, optimizer, criterion, use_cuda):\n",
    "#     loss_log = []\n",
    "#     acc_log = []\n",
    "\n",
    "#     for epoch in range(1, epochs+1):\n",
    "#         train_loss = 0.0\n",
    "        \n",
    "#         model.train()\n",
    "        \n",
    "#         for index, data in enumerate(train_data):\n",
    "#             target = train_labels[index]\n",
    "            \n",
    "#             if use_cuda:\n",
    "#                 data.cuda()\n",
    "# #                 target.cuda()\n",
    "                \n",
    "#             optimizer.zero_grad()\n",
    "#             output = model(data)\n",
    "#             loss = criterion(output, target)\n",
    "#             loss.backward()\n",
    "#             optimizer.step()\n",
    "            \n",
    "#             if index%1000==0:\n",
    "#                 loss_log.append(loss.item())\n",
    "#                 acc_log.append(net.evaluate(torch.max(net(Variable(test_x[:500])).data, 1)[1], test_y[:500]))\n",
    "            \n",
    "            \n",
    "#             # print training/validation statistics \n",
    "#             print('Epoch: {} \\tTraining Loss: {:.6f} '.format(\n",
    "#                 epoch, \n",
    "#                 train_loss\n",
    "#                 ))\n",
    "\n",
    "            \n",
    "#     # return trained model\n",
    "#     return model"
   ]
  },
  {
   "cell_type": "code",
   "execution_count": 17,
   "metadata": {},
   "outputs": [],
   "source": [
    "# # train the model\n",
    "# model_scratch = train(epochs, model, optimizer, criterion, use_cuda)"
   ]
  },
  {
   "cell_type": "code",
   "execution_count": 18,
   "metadata": {},
   "outputs": [],
   "source": [
    "from torch.autograd import Variable"
   ]
  },
  {
   "cell_type": "code",
   "execution_count": 19,
   "metadata": {},
   "outputs": [],
   "source": [
    "# train_y[i:i + 100].head()"
   ]
  },
  {
   "cell_type": "code",
   "execution_count": 20,
   "metadata": {},
   "outputs": [
    {
     "name": "stdout",
     "output_type": "stream",
     "text": [
      "Epoch: 1 - Loss: 2.876677\n",
      "Epoch: 2 - Loss: 2.489212\n",
      "Epoch: 3 - Loss: 2.012761\n",
      "Epoch: 4 - Loss: 1.461175\n",
      "Epoch: 5 - Loss: 1.359220\n",
      "Epoch: 6 - Loss: 1.075737\n",
      "Epoch: 7 - Loss: 0.915236\n",
      "Epoch: 8 - Loss: 0.879234\n",
      "Epoch: 9 - Loss: 0.741629\n",
      "Epoch: 10 - Loss: 0.726557\n",
      "Epoch: 11 - Loss: 0.359653\n",
      "Epoch: 12 - Loss: 0.372326\n",
      "Epoch: 13 - Loss: 0.247068\n",
      "Epoch: 14 - Loss: 0.213826\n",
      "Epoch: 15 - Loss: 0.212687\n",
      "Epoch: 16 - Loss: 0.206590\n",
      "Epoch: 17 - Loss: 0.141472\n",
      "Epoch: 18 - Loss: 0.157680\n",
      "Epoch: 19 - Loss: 0.173072\n",
      "Epoch: 20 - Loss: 0.137315\n",
      "Epoch: 21 - Loss: 0.123230\n",
      "Epoch: 22 - Loss: 0.101172\n",
      "Epoch: 23 - Loss: 0.051900\n",
      "Epoch: 24 - Loss: 0.049608\n",
      "Epoch: 25 - Loss: 0.034232\n",
      "Epoch: 26 - Loss: 0.146855\n",
      "Epoch: 27 - Loss: 0.081444\n",
      "Epoch: 28 - Loss: 0.048108\n",
      "Epoch: 29 - Loss: 0.066347\n",
      "Epoch: 30 - Loss: 0.084329\n",
      "Epoch: 31 - Loss: 0.047425\n",
      "Epoch: 32 - Loss: 0.048169\n",
      "Epoch: 33 - Loss: 0.017336\n",
      "Epoch: 34 - Loss: 0.019786\n",
      "Epoch: 35 - Loss: 0.008886\n",
      "Epoch: 36 - Loss: 0.011403\n",
      "Epoch: 37 - Loss: 0.029887\n",
      "Epoch: 38 - Loss: 0.056968\n",
      "Epoch: 39 - Loss: 0.024258\n",
      "Epoch: 40 - Loss: 0.123685\n",
      "Epoch: 41 - Loss: 0.006614\n",
      "Epoch: 42 - Loss: 0.013266\n",
      "Epoch: 43 - Loss: 0.012051\n",
      "Epoch: 44 - Loss: 0.016783\n",
      "Epoch: 45 - Loss: 0.026966\n",
      "Epoch: 46 - Loss: 0.050684\n",
      "Epoch: 47 - Loss: 0.078336\n",
      "Epoch: 48 - Loss: 0.088674\n",
      "Epoch: 49 - Loss: 0.032248\n",
      "Epoch: 50 - Loss: 0.095657\n"
     ]
    }
   ],
   "source": [
    "loss_log = []\n",
    "acc_log = []\n",
    "\n",
    "for e in range(50):\n",
    "    for i in range(0, train_x.shape[0], 100):\n",
    "        x_mini = train_x[i:i + 100] \n",
    "        y_mini = train_y[i:i + 100] \n",
    "        \n",
    "        if use_cuda:\n",
    "            x_mini = x_mini.cuda()\n",
    "            y_mini = y_mini.cuda()\n",
    "            test_x = test_x.cuda()\n",
    "            test_y = test_y.cuda()\n",
    "        \n",
    "        optimizer.zero_grad()\n",
    "        net_out = model(Variable(x_mini))\n",
    "        \n",
    "        loss = criterion(net_out, Variable(y_mini))\n",
    "        loss.backward()\n",
    "        optimizer.step()\n",
    "        \n",
    "        if i % 1000 == 0:\n",
    "            #pred = net(Variable(test_data_formated))\n",
    "            loss_log.append(loss.item())\n",
    "            acc_log.append(model.evaluate(torch.max(model(Variable(test_x[:500])).data, 1)[1], test_y[:500]))\n",
    "        \n",
    "    print('Epoch: {} - Loss: {:.6f}'.format(e + 1, loss.item()))"
   ]
  },
  {
   "cell_type": "code",
   "execution_count": 21,
   "metadata": {},
   "outputs": [
    {
     "data": {
      "image/png": "[encoded data removed]",
      "text/plain": [
       "<Figure size 720x576 with 1 Axes>"
      ]
     },
     "metadata": {
      "needs_background": "light"
     },
     "output_type": "display_data"
    }
   ],
   "source": [
    "plt.figure(figsize=(10,8))\n",
    "plt.plot(loss_log[2:])\n",
    "plt.plot(acc_log)\n",
    "plt.plot(np.ones(len(acc_log)), linestyle='dashed')\n",
    "plt.show()"
   ]
  },
  {
   "cell_type": "code",
   "execution_count": 22,
   "metadata": {},
   "outputs": [
    {
     "data": {
      "text/plain": [
       "0.9906392278273538"
      ]
     },
     "execution_count": 22,
     "metadata": {},
     "output_type": "execute_result"
    }
   ],
   "source": [
    "predictions = model(Variable(test_x))\n",
    "model.test(torch.max(predictions.data, 1)[1], test_y)"
   ]
  },
  {
   "cell_type": "code",
   "execution_count": null,
   "metadata": {},
   "outputs": [],
   "source": []
  }
 ],
 "metadata": {
  "kernelspec": {
   "display_name": "Python 3",
   "language": "python",
   "name": "python3"
  },
  "language_info": {
   "codemirror_mode": {
    "name": "ipython",
    "version": 3
   },
   "file_extension": ".py",
   "mimetype": "text/x-python",
   "name": "python",
   "nbconvert_exporter": "python",
   "pygments_lexer": "ipython3",
   "version": "3.7.3"
  }
 },
 "nbformat": 4,
 "nbformat_minor": 2
}
