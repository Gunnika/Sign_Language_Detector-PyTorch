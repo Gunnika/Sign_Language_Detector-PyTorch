{
 "cells": [
  {
   "cell_type": "code",
   "execution_count": 1,
   "metadata": {},
   "outputs": [],
   "source": [
    "import numpy as np\n",
    "import pandas as pd\n",
    "import seaborn as sns\n",
    "import string\n",
    "import os\n",
    "import cv2\n",
    "\n",
    "import matplotlib.pyplot as plt\n",
    "%matplotlib inline\n",
    "\n",
    "import torch\n",
    "import torch.nn as nn\n",
    "import torch.nn.functional as F\n",
    "import torch.optim as optim\n",
    "from torchsummary import summary\n",
    "from torch.autograd import Variable"
   ]
  },
  {
   "cell_type": "code",
   "execution_count": 2,
   "metadata": {},
   "outputs": [],
   "source": [
    "train_data_raw = pd.read_csv('./Dataset/sign_mnist_train.csv', sep=\",\")\n",
    "test_data_raw = pd.read_csv('./Dataset/sign_mnist_test.csv', sep=\",\")"
   ]
  },
  {
   "cell_type": "code",
   "execution_count": 3,
   "metadata": {},
   "outputs": [],
   "source": [
    "train_labels = train_data_raw['label']\n",
    "train_data_raw.drop('label', axis=1, inplace=True) # dropping the label column\n",
    "\n",
    "test_labels = test_data_raw['label']\n",
    "test_data_raw.drop('label', axis=1, inplace=True) # dropping the label column"
   ]
  },
  {
   "cell_type": "code",
   "execution_count": 4,
   "metadata": {},
   "outputs": [],
   "source": [
    "train_data = train_data_raw.values\n",
    "train_labels = train_labels.values\n",
    "\n",
    "test_data = test_data_raw.values\n",
    "test_labels = test_labels.values"
   ]
  },
  {
   "cell_type": "code",
   "execution_count": 5,
   "metadata": {},
   "outputs": [
    {
     "data": {
      "text/plain": [
       "{0,\n",
       " 1,\n",
       " 2,\n",
       " 3,\n",
       " 4,\n",
       " 5,\n",
       " 6,\n",
       " 7,\n",
       " 8,\n",
       " 10,\n",
       " 11,\n",
       " 12,\n",
       " 13,\n",
       " 14,\n",
       " 15,\n",
       " 16,\n",
       " 17,\n",
       " 18,\n",
       " 19,\n",
       " 20,\n",
       " 21,\n",
       " 22,\n",
       " 23,\n",
       " 24}"
      ]
     },
     "execution_count": 5,
     "metadata": {},
     "output_type": "execute_result"
    }
   ],
   "source": [
    "set(train_labels) #No  9=J or 25=Z because of gesture motions "
   ]
  },
  {
   "cell_type": "code",
   "execution_count": 6,
   "metadata": {},
   "outputs": [],
   "source": [
    "dim=28"
   ]
  },
  {
   "cell_type": "code",
   "execution_count": 7,
   "metadata": {},
   "outputs": [
    {
     "data": {
      "text/plain": [
       "<matplotlib.axes._subplots.AxesSubplot at 0x7f0fd56dc978>"
      ]
     },
     "execution_count": 7,
     "metadata": {},
     "output_type": "execute_result"
    },
    {
     "data": {
      "image/png": "[encoded data removed]",
      "text/plain": [
       "<Figure size 432x288 with 4 Axes>"
      ]
     },
     "metadata": {
      "needs_background": "light"
     },
     "output_type": "display_data"
    }
   ],
   "source": [
    "pixels = train_data[20].reshape(dim, dim)\n",
    "plt.subplot(221)\n",
    "sns.heatmap(data=pixels)\n",
    "\n",
    "pixels = train_data[30].reshape(dim, dim)\n",
    "plt.subplot(222)\n",
    "sns.heatmap(data=pixels)"
   ]
  },
  {
   "cell_type": "code",
   "execution_count": 8,
   "metadata": {},
   "outputs": [],
   "source": [
    "reshaped_train = []\n",
    "for i in train_data:\n",
    "    reshaped_train.append(i.reshape(1, dim, dim))\n",
    "train_data = np.array(reshaped_train)\n",
    "\n",
    "reshaped_test = []\n",
    "for i in test_data:\n",
    "    reshaped_test.append(i.reshape(1, dim, dim))\n",
    "test_data = np.array(reshaped_train)"
   ]
  },
  {
   "cell_type": "code",
   "execution_count": 9,
   "metadata": {},
   "outputs": [],
   "source": [
    "train_x = torch.FloatTensor(train_data)\n",
    "train_y = torch.LongTensor(train_labels.tolist())\n",
    "\n",
    "test_x = torch.FloatTensor(train_data)\n",
    "test_y = torch.LongTensor(train_labels.tolist())"
   ]
  },
  {
   "cell_type": "code",
   "execution_count": 10,
   "metadata": {},
   "outputs": [],
   "source": [
    "alph = {0: 'A', 1: 'B', 2: 'C', 3: 'D', 4: 'E', 5: 'F', 6: 'G', 7: 'H', 8: 'I',\n",
    "        10: 'K', 11: 'L', 12: 'M', 13: 'N', 14: 'O', 15: 'P', 16: 'Q', 17: 'R',\n",
    "        18: 'S', 19: 'T', 20: 'U', 21: 'V', 22: 'W', 23: 'X', 24: 'Y' }"
   ]
  },
  {
   "cell_type": "code",
   "execution_count": 11,
   "metadata": {},
   "outputs": [],
   "source": [
    "class Network(nn.Module):\n",
    "    def __init__(self):\n",
    "        super(Network, self).__init__()\n",
    "        self.conv1 = nn.Conv2d(1,10,3)\n",
    "        self.conv2 = nn.Conv2d(10,20,3)\n",
    "        self.conv3 = nn.Conv2d(20,30,3)\n",
    "        \n",
    "        self.pool = nn.MaxPool2d(2)\n",
    "        self.dropout = nn.Dropout2d(0.2)\n",
    "        \n",
    "        self.fc1 = nn.Linear(30*3*3, 270)\n",
    "        self.fc2 = nn.Linear(270,26)\n",
    "        \n",
    "        self.softmax = nn.LogSoftmax(dim=1)\n",
    "        \n",
    "    def forward(self,x):\n",
    "        x = self.conv1(x)\n",
    "        x = F.relu(x)\n",
    "        x = self.pool(x)\n",
    "        \n",
    "        x = self.conv2(x)\n",
    "        x = F.relu(x)\n",
    "        x = self.pool(x)\n",
    "        \n",
    "        x = self.conv3(x)\n",
    "        x = F.relu(x)\n",
    "        x = self.dropout(x)\n",
    "        \n",
    "        x = x.view(-1, 30 * 3 * 3)\n",
    "        x = F.relu(self.fc1(x))\n",
    "        x = self.softmax(F.relu(self.fc2(x)))\n",
    "        \n",
    "        return(x)\n",
    "        \n",
    "    def test(self, predictions,labels):\n",
    "        self.eval()\n",
    "        correct = 0\n",
    "        for p,l in zip(predictions,labels):\n",
    "            if p==l:\n",
    "                correct+=1\n",
    "        acc = correct/len(predictions)\n",
    "        return(acc, correct, len(predictions))\n",
    "    \n",
    "    def evaluate(self, predictions,labels):\n",
    "        correct = 0\n",
    "        for p,l in zip(predictions,labels):\n",
    "            if p==l:\n",
    "                correct+=1\n",
    "        acc = correct/len(predictions)\n",
    "        return(acc)"
   ]
  },
  {
   "cell_type": "code",
   "execution_count": 12,
   "metadata": {},
   "outputs": [],
   "source": [
    "use_cuda = torch.cuda.is_available()\n",
    "\n",
    "# move model to GPU if CUDA is available\n",
    "if use_cuda:\n",
    "    model = Network().cuda()"
   ]
  },
  {
   "cell_type": "code",
   "execution_count": 13,
   "metadata": {},
   "outputs": [
    {
     "name": "stdout",
     "output_type": "stream",
     "text": [
      "----------------------------------------------------------------\n",
      "        Layer (type)               Output Shape         Param #\n",
      "================================================================\n",
      "            Conv2d-1           [-1, 10, 26, 26]             100\n",
      "         MaxPool2d-2           [-1, 10, 13, 13]               0\n",
      "            Conv2d-3           [-1, 20, 11, 11]           1,820\n",
      "         MaxPool2d-4             [-1, 20, 5, 5]               0\n",
      "            Conv2d-5             [-1, 30, 3, 3]           5,430\n",
      "         Dropout2d-6             [-1, 30, 3, 3]               0\n",
      "            Linear-7                  [-1, 270]          73,170\n",
      "            Linear-8                   [-1, 26]           7,046\n",
      "        LogSoftmax-9                   [-1, 26]               0\n",
      "================================================================\n",
      "Total params: 87,566\n",
      "Trainable params: 87,566\n",
      "Non-trainable params: 0\n",
      "----------------------------------------------------------------\n",
      "Input size (MB): 0.00\n",
      "Forward/backward pass size (MB): 0.09\n",
      "Params size (MB): 0.33\n",
      "Estimated Total Size (MB): 0.43\n",
      "----------------------------------------------------------------\n"
     ]
    }
   ],
   "source": [
    "summary(model, (1,dim,dim)) #takes the model and the input tensor shape, displays the output shape"
   ]
  },
  {
   "cell_type": "code",
   "execution_count": 14,
   "metadata": {},
   "outputs": [],
   "source": [
    "epochs = 80\n",
    "batch_size = 100\n",
    "learning_rate = 0.001"
   ]
  },
  {
   "cell_type": "code",
   "execution_count": 15,
   "metadata": {},
   "outputs": [],
   "source": [
    "optimizer = optim.SGD(model.parameters(), learning_rate, momentum=0.007)\n",
    "criterion = nn.CrossEntropyLoss()"
   ]
  },
  {
   "cell_type": "code",
   "execution_count": 16,
   "metadata": {},
   "outputs": [
    {
     "name": "stdout",
     "output_type": "stream",
     "text": [
      "Epoch: 1 - Loss: 3.049043\n",
      "Epoch: 2 - Loss: 2.323002\n",
      "Epoch: 3 - Loss: 1.849604\n",
      "Epoch: 4 - Loss: 1.398325\n",
      "Epoch: 5 - Loss: 1.175445\n",
      "Epoch: 6 - Loss: 0.999428\n",
      "Epoch: 7 - Loss: 0.981667\n",
      "Epoch: 8 - Loss: 0.778231\n",
      "Epoch: 9 - Loss: 0.820012\n",
      "Epoch: 10 - Loss: 0.664818\n",
      "Epoch: 11 - Loss: 0.582295\n",
      "Epoch: 12 - Loss: 0.608186\n",
      "Epoch: 13 - Loss: 0.352839\n",
      "Epoch: 14 - Loss: 0.405420\n",
      "Epoch: 15 - Loss: 0.387086\n",
      "Epoch: 16 - Loss: 0.345102\n",
      "Epoch: 17 - Loss: 0.284537\n",
      "Epoch: 18 - Loss: 0.288982\n",
      "Epoch: 19 - Loss: 0.348689\n",
      "Epoch: 20 - Loss: 0.307644\n",
      "Epoch: 21 - Loss: 0.193970\n",
      "Epoch: 22 - Loss: 0.197069\n",
      "Epoch: 23 - Loss: 0.214909\n",
      "Epoch: 24 - Loss: 0.224820\n",
      "Epoch: 25 - Loss: 0.234695\n",
      "Epoch: 26 - Loss: 0.236814\n",
      "Epoch: 27 - Loss: 0.172447\n",
      "Epoch: 28 - Loss: 0.200826\n",
      "Epoch: 29 - Loss: 0.275335\n",
      "Epoch: 30 - Loss: 0.180090\n",
      "Epoch: 31 - Loss: 0.181675\n",
      "Epoch: 32 - Loss: 0.138074\n",
      "Epoch: 33 - Loss: 0.186786\n",
      "Epoch: 34 - Loss: 0.173317\n",
      "Epoch: 35 - Loss: 0.175113\n",
      "Epoch: 36 - Loss: 0.164953\n",
      "Epoch: 37 - Loss: 0.183843\n",
      "Epoch: 38 - Loss: 0.173555\n",
      "Epoch: 39 - Loss: 0.192122\n",
      "Epoch: 40 - Loss: 0.200991\n",
      "Epoch: 41 - Loss: 0.127338\n",
      "Epoch: 42 - Loss: 0.178678\n",
      "Epoch: 43 - Loss: 0.145400\n",
      "Epoch: 44 - Loss: 0.174187\n",
      "Epoch: 45 - Loss: 0.169783\n",
      "Epoch: 46 - Loss: 0.132900\n",
      "Epoch: 47 - Loss: 0.141626\n",
      "Epoch: 48 - Loss: 0.147033\n",
      "Epoch: 49 - Loss: 0.164985\n",
      "Epoch: 50 - Loss: 0.155928\n",
      "Epoch: 51 - Loss: 0.138916\n",
      "Epoch: 52 - Loss: 0.135360\n",
      "Epoch: 53 - Loss: 0.122031\n",
      "Epoch: 54 - Loss: 0.186113\n",
      "Epoch: 55 - Loss: 0.229773\n",
      "Epoch: 56 - Loss: 0.127465\n",
      "Epoch: 57 - Loss: 0.143752\n",
      "Epoch: 58 - Loss: 0.131535\n",
      "Epoch: 59 - Loss: 0.120707\n",
      "Epoch: 60 - Loss: 0.121125\n",
      "Epoch: 61 - Loss: 0.136258\n",
      "Epoch: 62 - Loss: 0.129278\n",
      "Epoch: 63 - Loss: 0.124674\n",
      "Epoch: 64 - Loss: 0.125552\n",
      "Epoch: 65 - Loss: 0.130416\n",
      "Epoch: 66 - Loss: 0.125749\n",
      "Epoch: 67 - Loss: 0.145864\n",
      "Epoch: 68 - Loss: 0.141360\n",
      "Epoch: 69 - Loss: 0.123666\n",
      "Epoch: 70 - Loss: 0.123482\n",
      "Epoch: 71 - Loss: 0.173300\n",
      "Epoch: 72 - Loss: 0.123388\n",
      "Epoch: 73 - Loss: 0.127687\n",
      "Epoch: 74 - Loss: 0.128568\n",
      "Epoch: 75 - Loss: 0.123912\n",
      "Epoch: 76 - Loss: 0.132515\n",
      "Epoch: 77 - Loss: 0.128376\n",
      "Epoch: 78 - Loss: 0.127989\n",
      "Epoch: 79 - Loss: 0.133686\n",
      "Epoch: 80 - Loss: 0.146856\n"
     ]
    }
   ],
   "source": [
    "loss_log = []\n",
    "acc_log = []\n",
    "\n",
    "for e in range(epochs):\n",
    "    for i in range(0, train_x.shape[0], 100):\n",
    "        x_mini = train_x[i:i + 100] \n",
    "        y_mini = train_y[i:i + 100] \n",
    "        \n",
    "        if use_cuda:\n",
    "            x_mini = x_mini.cuda()\n",
    "            y_mini = y_mini.cuda()\n",
    "            test_x = test_x.cuda()\n",
    "            test_y = test_y.cuda()\n",
    "        \n",
    "        optimizer.zero_grad()\n",
    "        net_out = model(Variable(x_mini))\n",
    "        \n",
    "        loss = criterion(net_out, Variable(y_mini))\n",
    "        loss.backward()\n",
    "        optimizer.step()\n",
    "        \n",
    "        if i % 1000 == 0:\n",
    "            #pred = net(Variable(test_data_formated))\n",
    "            loss_log.append(loss.item())\n",
    "            acc_log.append(model.evaluate(torch.max(model(Variable(test_x[:500])).data, 1)[1], test_y[:500]))\n",
    "        \n",
    "    print('Epoch: {} - Loss: {:.6f}'.format(e + 1, loss.item()))"
   ]
  },
  {
   "cell_type": "code",
   "execution_count": 17,
   "metadata": {},
   "outputs": [
    {
     "data": {
      "image/png": "[encoded data removed]",
      "text/plain": [
       "<Figure size 720x576 with 1 Axes>"
      ]
     },
     "metadata": {
      "needs_background": "light"
     },
     "output_type": "display_data"
    }
   ],
   "source": [
    "plt.figure(figsize=(10,8))\n",
    "plt.plot(loss_log[2:])\n",
    "plt.plot(acc_log)\n",
    "plt.plot(np.ones(len(acc_log)), linestyle='dashed')\n",
    "plt.show()"
   ]
  },
  {
   "cell_type": "code",
   "execution_count": 18,
   "metadata": {},
   "outputs": [],
   "source": [
    "predictions = model(Variable(test_x))\n",
    "accuracy, correct, total = model.test(torch.max(predictions.data, 1)[1], test_y)"
   ]
  },
  {
   "cell_type": "code",
   "execution_count": 19,
   "metadata": {},
   "outputs": [
    {
     "name": "stdout",
     "output_type": "stream",
     "text": [
      "Accuracy = 0.9603715170278638 (26367/27455)\n"
     ]
    }
   ],
   "source": [
    "print(\"Accuracy = \" + str(accuracy) + \" (\"+str(correct)+\"/\"+str(total)+\")\")"
   ]
  },
  {
   "cell_type": "code",
   "execution_count": 20,
   "metadata": {},
   "outputs": [
    {
     "name": "stderr",
     "output_type": "stream",
     "text": [
      "/home/gunnika/anaconda3/lib/python3.7/site-packages/torch/serialization.py:360: UserWarning: Couldn't retrieve source code for container of type Network. It won't be checked for correctness upon loading.\n",
      "  \"type \" + obj.__name__ + \". It won't be checked \"\n"
     ]
    }
   ],
   "source": [
    "torch.save(model, 'model_trained.pt')"
   ]
  }
 ],
 "metadata": {
  "kernelspec": {
   "display_name": "Python 3",
   "language": "python",
   "name": "python3"
  },
  "language_info": {
   "codemirror_mode": {
    "name": "ipython",
    "version": 3
   },
   "file_extension": ".py",
   "mimetype": "text/x-python",
   "name": "python",
   "nbconvert_exporter": "python",
   "pygments_lexer": "ipython3",
   "version": "3.7.3"
  }
 },
 "nbformat": 4,
 "nbformat_minor": 2
}
