{
 "cells": [
  {
   "cell_type": "code",
   "execution_count": 1,
   "metadata": {},
   "outputs": [],
   "source": [
    "import numpy as np\n",
    "import pandas as pd\n",
    "import seaborn as sns\n",
    "import string\n",
    "import os\n",
    "import cv2\n",
    "from glob import glob\n",
    "\n",
    "import matplotlib.pyplot as plt\n",
    "%matplotlib inline\n",
    "\n",
    "import torch\n",
    "import torch.nn as nn\n",
    "import torch.nn.functional as F\n",
    "import torch.optim as optim\n",
    "from torchsummary import summary\n",
    "from torch.autograd import Variable\n",
    "import torchvision.transforms as transforms"
   ]
  },
  {
   "cell_type": "code",
   "execution_count": 2,
   "metadata": {},
   "outputs": [],
   "source": [
    "train_data_raw = np.array(glob('asl-alphabet/asl_alphabet_train/asl_alphabet_train/*/*'))\n",
    "test_data_raw = np.array(glob('asl-alphabet/asl_alphabet_test/asl_alphabet_test/*'))"
   ]
  },
  {
   "cell_type": "code",
   "execution_count": 3,
   "metadata": {},
   "outputs": [
    {
     "name": "stdout",
     "output_type": "stream",
     "text": [
      "There are 87000 total train images.\n",
      "There are 28 total test images.\n"
     ]
    }
   ],
   "source": [
    "print('There are %d total train images.' % len(train_data_raw))\n",
    "print('There are %d total test images.' % len(test_data_raw)) #No test image for delete"
   ]
  },
  {
   "cell_type": "code",
   "execution_count": 4,
   "metadata": {},
   "outputs": [],
   "source": [
    "from PIL import Image\n",
    "from PIL import ImageFile\n",
    "ImageFile.LOAD_TRUNCATED_IMAGES = True\n",
    "\n",
    "from torchvision import datasets\n",
    "from torch.utils.data.sampler import SubsetRandomSampler"
   ]
  },
  {
   "cell_type": "code",
   "execution_count": 5,
   "metadata": {},
   "outputs": [
    {
     "name": "stdout",
     "output_type": "stream",
     "text": [
      "There are 87000 total train images.\n",
      "There are 28 total test images.\n"
     ]
    }
   ],
   "source": [
    "train_transform = transforms.Compose([ transforms.Grayscale(num_output_channels=1),\n",
    "                                transforms.Resize(size=(50,50)),\n",
    "                                transforms.ToTensor(),\n",
    "                                transforms.Normalize([0.5], [0.5])])\n",
    "# valid_transform = transforms.Compose([transforms.Resize(256),\n",
    "#                                     transforms.CenterCrop(224),\n",
    "#                                     transforms.ToTensor(),\n",
    "#                                     transforms.Normalize(mean=[0.485, 0.456, 0.406], \n",
    "#                                                         std=[0.229, 0.224, 0.225])])\n",
    "test_transform = transforms.Compose([ transforms.Grayscale(num_output_channels=1),\n",
    "                                    transforms.Resize(size=(50,50)),\n",
    "                                    transforms.ToTensor(),\n",
    "                                    transforms.Normalize([0.5], [0.5])])\n",
    "\n",
    "train_data = datasets.ImageFolder(root = 'asl-alphabet/asl_alphabet_train/asl_alphabet_train', transform=train_transform)\n",
    "# valid_data = datasets.ImageFolder(root = 'dogImages/valid', transform=valid_transform)\n",
    "test_data = datasets.ImageFolder(root='asl-alphabet/asl_alphabet_test', transform=test_transform)\n",
    "\n",
    "# print number of images in each dataset\n",
    "print('There are %d total train images.' % len(train_data))\n",
    "# print('There are %d total dog validation images.' % len(valid_data))\n",
    "print('There are %d total test images.' % len(test_data))\n",
    "\n",
    "\n",
    "trainloader = torch.utils.data.DataLoader(train_data, batch_size=20,shuffle=True)\n",
    "# validloader = torch.utils.data.DataLoader(valid_data, batch_size=20,shuffle=False)\n",
    "testloader = torch.utils.data.DataLoader(test_data,batch_size=20, shuffle=False)\n",
    "\n",
    "\n",
    "loaders = dict(train=trainloader,\n",
    "#                        valid = validloader,\n",
    "                       test=testloader)"
   ]
  },
  {
   "cell_type": "code",
   "execution_count": 6,
   "metadata": {},
   "outputs": [],
   "source": [
    "dim=50"
   ]
  },
  {
   "cell_type": "code",
   "execution_count": 7,
   "metadata": {},
   "outputs": [],
   "source": [
    "class Network(nn.Module):\n",
    "    def __init__(self):\n",
    "        super(Network, self).__init__()\n",
    "        self.conv1 = nn.Conv2d(1,10,3)\n",
    "        self.conv2 = nn.Conv2d(10,20,3)\n",
    "        self.conv3 = nn.Conv2d(20,30,3)\n",
    "        \n",
    "        self.pool = nn.MaxPool2d(2)\n",
    "        self.dropout = nn.Dropout2d(0.2)\n",
    "        \n",
    "        self.fc1 = nn.Linear(2430, 270)\n",
    "        self.fc2 = nn.Linear(270,29)\n",
    "        \n",
    "        self.softmax = nn.LogSoftmax(dim=1)\n",
    "        \n",
    "    def forward(self,x):\n",
    "        x = self.conv1(x)\n",
    "        x = F.relu(x)\n",
    "        x = self.pool(x)\n",
    "        \n",
    "        x = self.conv2(x)\n",
    "        x = F.relu(x)\n",
    "        x = self.pool(x)\n",
    "        \n",
    "        x = self.conv3(x)\n",
    "        x = F.relu(x)\n",
    "        x = self.dropout(x)\n",
    "        \n",
    "        x = x.view(-1, self.num_flat_features(x))\n",
    "        x = F.relu(self.fc1(x))\n",
    "        x = self.softmax(F.relu(self.fc2(x)))\n",
    "        return(x)\n",
    "    \n",
    "    def num_flat_features(self, x):\n",
    "        size = x.size()[1:]  # all dimensions except the batch dimension\n",
    "        num_features = 1\n",
    "        for s in size:\n",
    "            num_features *= s\n",
    "        return num_features"
   ]
  },
  {
   "cell_type": "code",
   "execution_count": 8,
   "metadata": {},
   "outputs": [],
   "source": [
    "use_cuda = torch.cuda.is_available()\n",
    "\n",
    "# move model to GPU if CUDA is available\n",
    "if use_cuda:\n",
    "    model = Network().cuda()\n",
    "else:\n",
    "    model = Network()"
   ]
  },
  {
   "cell_type": "code",
   "execution_count": 9,
   "metadata": {},
   "outputs": [
    {
     "name": "stdout",
     "output_type": "stream",
     "text": [
      "----------------------------------------------------------------\n",
      "        Layer (type)               Output Shape         Param #\n",
      "================================================================\n",
      "            Conv2d-1           [-1, 10, 48, 48]             100\n",
      "         MaxPool2d-2           [-1, 10, 24, 24]               0\n",
      "            Conv2d-3           [-1, 20, 22, 22]           1,820\n",
      "         MaxPool2d-4           [-1, 20, 11, 11]               0\n",
      "            Conv2d-5             [-1, 30, 9, 9]           5,430\n",
      "         Dropout2d-6             [-1, 30, 9, 9]               0\n",
      "            Linear-7                  [-1, 270]         656,370\n",
      "            Linear-8                   [-1, 29]           7,859\n",
      "        LogSoftmax-9                   [-1, 29]               0\n",
      "================================================================\n",
      "Total params: 671,579\n",
      "Trainable params: 671,579\n",
      "Non-trainable params: 0\n",
      "----------------------------------------------------------------\n",
      "Input size (MB): 0.01\n",
      "Forward/backward pass size (MB): 0.35\n",
      "Params size (MB): 2.56\n",
      "Estimated Total Size (MB): 2.92\n",
      "----------------------------------------------------------------\n"
     ]
    }
   ],
   "source": [
    "summary(model, (1,dim,dim)) #takes the model and the input tensor shape, displays the output shape"
   ]
  },
  {
   "cell_type": "code",
   "execution_count": 10,
   "metadata": {},
   "outputs": [],
   "source": [
    "epochs = 50\n",
    "learning_rate = 0.001"
   ]
  },
  {
   "cell_type": "code",
   "execution_count": 11,
   "metadata": {},
   "outputs": [],
   "source": [
    "optimizer = optim.SGD(model.parameters(), learning_rate, momentum=0.007)\n",
    "criterion = nn.CrossEntropyLoss()"
   ]
  },
  {
   "cell_type": "code",
   "execution_count": 12,
   "metadata": {},
   "outputs": [],
   "source": [
    "def train(n_epochs, loaders, model, optimizer, criterion, use_cuda):\n",
    "    \"\"\"returns trained model\"\"\"\n",
    "    # initialize tracker for minimum validation loss\n",
    "    valid_loss_min = np.Inf \n",
    "    \n",
    "    for epoch in range(1, n_epochs+1):\n",
    "        # initialize variables to monitor training and validation loss\n",
    "        train_loss = 0.0\n",
    "        valid_loss = 0.0\n",
    "        \n",
    "        ###################\n",
    "        # train the model #\n",
    "        ###################\n",
    "        model.train()\n",
    "        for batch_idx, (data, target) in enumerate(loaders['train']):\n",
    "            # move to GPU\n",
    "            if use_cuda:\n",
    "                data, target = data.cuda(), target.cuda()\n",
    "            ## find the loss and update the model parameters accordingly\n",
    "            ## record the average training loss, using something like\n",
    "            ## train_loss = train_loss + ((1 / (batch_idx + 1)) * (loss.data - train_loss))\n",
    "            optimizer.zero_grad()\n",
    "            output = model(data)\n",
    "            loss = criterion(output,target)\n",
    "            loss.backward()\n",
    "            optimizer.step()\n",
    "            \n",
    "            train_loss = train_loss + ((1/(batch_idx +1))*(loss.data - train_loss))\n",
    "            \n",
    "            if batch_idx % 1000 == 0:\n",
    "                print('Epoch %d, Batch %d loss: %.6f' %(epoch, batch_idx + 1, train_loss))\n",
    "            \n",
    "#             print('Epoch: {} \\tTraining Loss: {:.6f} '.format(\n",
    "#             epoch, \n",
    "#             train_loss,\n",
    "#             ))\n",
    "                \n",
    "    # return trained model\n",
    "    return model\n",
    "            \n",
    "        ######################    \n",
    "        # validate the model #\n",
    "        ######################\n",
    "#         model.eval()\n",
    "#         for batch_idx, (data, target) in enumerate(loaders['valid']):\n",
    "#             # move to GPU\n",
    "#             if use_cuda:\n",
    "#                 data, target = data.cuda(), target.cuda()\n",
    "#             ## update the average validation loss\n",
    "#             output = model(data)\n",
    "#             loss = criterion(output,target)\n",
    "#             valid_loss = valid_loss + ((1 / (batch_idx + 1)) * (loss.data - valid_loss))\n",
    "\n",
    "\n",
    "        # print training/validation statistics \n",
    "#         print('Epoch: {} \\tTraining Loss: {:.6f} \\tValidation Loss: {:.6f}'.format(\n",
    "#             epoch, \n",
    "#             train_loss,\n",
    "#             valid_loss\n",
    "#             ))\n",
    "        \n",
    "        ## TODO: save the model if validation loss has decreased\n",
    "#         if valid_loss <= valid_loss_min:\n",
    "#             print('Validation loss decreased ({:.6f} --> {:.6f}).  Saving model ...'.format(\n",
    "#             valid_loss_min,\n",
    "#             valid_loss))\n",
    "#             torch.save(model.state_dict(), 'model_scratch.pt')\n",
    "#             valid_loss_min = valid_loss\n",
    "            \n",
    "    "
   ]
  },
  {
   "cell_type": "code",
   "execution_count": null,
   "metadata": {},
   "outputs": [
    {
     "name": "stdout",
     "output_type": "stream",
     "text": [
      "Epoch 1, Batch 1 loss: 3.361695\n",
      "Epoch 1, Batch 1001 loss: 3.367375\n"
     ]
    }
   ],
   "source": [
    "# train the model\n",
    "model_scratch = train(epochs, loaders, model, optimizer, criterion, use_cuda)"
   ]
  },
  {
   "cell_type": "code",
   "execution_count": null,
   "metadata": {},
   "outputs": [],
   "source": [
    "plt.figure(figsize=(10,8))\n",
    "plt.plot(loss_log[2:])\n",
    "plt.plot(acc_log)\n",
    "plt.plot(np.ones(len(acc_log)), linestyle='dashed')\n",
    "plt.show()"
   ]
  },
  {
   "cell_type": "code",
   "execution_count": null,
   "metadata": {},
   "outputs": [],
   "source": [
    "predictions = model(Variable(test_x))\n",
    "accuracy, correct, total = model.test(torch.max(predictions.data, 1)[1], test_y)"
   ]
  },
  {
   "cell_type": "code",
   "execution_count": null,
   "metadata": {},
   "outputs": [],
   "source": [
    "print(\"Accuracy = \" + str(accuracy) + \" (\"+str(correct)+\"/\"+str(total)+\")\")"
   ]
  },
  {
   "cell_type": "code",
   "execution_count": null,
   "metadata": {},
   "outputs": [],
   "source": [
    "def predict(img_path):\n",
    "    img = cv2.imread(img_path)\n",
    "    img = cv2.cvtColor(img, cv2.COLOR_BGR2GRAY)\n",
    "    img = cv2.resize(img, (dim,dim))\n",
    "    plt.imshow(img, cmap=\"gray\")\n",
    "    img = img.reshape(1,1, dim, dim)\n",
    "    np_img = np.array(img)\n",
    "    input_img = torch.FloatTensor(np_img)\n",
    "    \n",
    "    if use_cuda:\n",
    "        input_img = input_img.cuda()\n",
    "        \n",
    "    pred = model(Variable(input_img))\n",
    "    pred = torch.max(pred.data, 1)[1].cpu().numpy()[0]\n",
    "    return pred"
   ]
  },
  {
   "cell_type": "code",
   "execution_count": null,
   "metadata": {},
   "outputs": [],
   "source": [
    "prediction = predict('./c.jpg')\n",
    "lab = 'c'"
   ]
  },
  {
   "cell_type": "code",
   "execution_count": null,
   "metadata": {},
   "outputs": [],
   "source": [
    "print(\"Prediction: {}\".format(alph[prediction]))\n",
    "print(\"Actual Label: {}\".format(lab))"
   ]
  },
  {
   "cell_type": "code",
   "execution_count": null,
   "metadata": {},
   "outputs": [],
   "source": [
    "# pixels = cv2.imread('./c.jpg').reshape(28, 28)\n",
    "# plt.subplot(223)\n",
    "# sns.heatmap(data=pixels)\n",
    "# lab = 'c'\n",
    "# test_sample = torch.FloatTensor([pixels.reshape(1, 28, 28).tolist()])\n",
    "# pred = model(Variable(input_img))\n",
    "# print(\"Prediction: {}\".format(alph[torch.max(net_out_sample.data, 1)[1].numpy()[0]]))\n",
    "# print(\"Actual Label: {}\".format(lab))\n"
   ]
  }
 ],
 "metadata": {
  "kernelspec": {
   "display_name": "Python 3",
   "language": "python",
   "name": "python3"
  },
  "language_info": {
   "codemirror_mode": {
    "name": "ipython",
    "version": 3
   },
   "file_extension": ".py",
   "mimetype": "text/x-python",
   "name": "python",
   "nbconvert_exporter": "python",
   "pygments_lexer": "ipython3",
   "version": "3.7.3"
  }
 },
 "nbformat": 4,
 "nbformat_minor": 2
}
