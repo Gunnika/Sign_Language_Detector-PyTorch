{
 "cells": [
  {
   "cell_type": "code",
   "execution_count": 1,
   "metadata": {},
   "outputs": [],
   "source": [
    "import os\n",
    "import cv2\n",
    "import numpy as np\n",
    "import matplotlib.pyplot as plt"
   ]
  },
  {
   "cell_type": "code",
   "execution_count": 2,
   "metadata": {},
   "outputs": [
    {
     "data": {
      "text/plain": [
       "-1"
      ]
     },
     "execution_count": 2,
     "metadata": {},
     "output_type": "execute_result"
    }
   ],
   "source": [
    "# Opens the Video file\n",
    "cap= cv2.VideoCapture(0)\n",
    "i=0\n",
    "\n",
    "while(cap.isOpened()):\n",
    "    ret, frame = cap.read()\n",
    "    frame = cv2.flip(frame, 1)\n",
    "   \n",
    "    cv2.rectangle(frame, (300,300), (100,100), (0,255,0),0)\n",
    "    cv2.imshow(\"image\", frame)\n",
    "    crop_img = frame[100:300, 100:300]\n",
    "    \n",
    "    if cv2.waitKey(1) & 0xFF == ord('q'):\n",
    "        break\n",
    "    if ret == False:\n",
    "        break\n",
    "        \n",
    "    \n",
    "    try: \n",
    "\n",
    "        # creating a folder named data \n",
    "        if not os.path.exists('data/'): \n",
    "            os.makedirs('data/') \n",
    "  \n",
    "    # if not created then raise error \n",
    "    except OSError: \n",
    "        print ('Error: Creating directory of data') \n",
    "        \n",
    "    save_img = cv2.resize( crop_img, (50,50) )\n",
    "    save_img = np.array(save_img)\n",
    "    cv2.imwrite('./data/frame'+str(i)+'.jpg',save_img)\n",
    "    i+=1\n",
    " \n",
    "cap.release()\n",
    "cv2.destroyAllWindows()\n",
    "cv2.waitKey(1)"
   ]
  },
  {
   "cell_type": "code",
   "execution_count": 3,
   "metadata": {},
   "outputs": [],
   "source": [
    "path = './data/'\n",
    "path2 = './preprocessed/'"
   ]
  },
  {
   "cell_type": "code",
   "execution_count": 4,
   "metadata": {},
   "outputs": [
    {
     "name": "stdout",
     "output_type": "stream",
     "text": [
      "['frame66.jpg', 'frame83.jpg', 'frame81.jpg', 'frame55.jpg', 'frame3.jpg', 'frame34.jpg', 'frame82.jpg', 'frame95.jpg', 'frame76.jpg', 'frame4.jpg', 'frame16.jpg', 'frame54.jpg', 'frame75.jpg', 'frame59.jpg', 'frame97.jpg', 'frame47.jpg', 'frame77.jpg', 'frame58.jpg', 'frame37.jpg', 'frame73.jpg', 'frame103.jpg', 'frame6.jpg', 'frame7.jpg', 'frame18.jpg', 'frame104.jpg', 'frame78.jpg', 'frame101.jpg', 'frame29.jpg', 'frame30.jpg', 'frame57.jpg', 'frame93.jpg', 'frame2.jpg', 'frame79.jpg', 'frame9.jpg', 'frame15.jpg', 'frame12.jpg', 'frame71.jpg', 'frame88.jpg', 'frame70.jpg', 'frame45.jpg', 'frame22.jpg', 'frame52.jpg', 'frame51.jpg', 'frame8.jpg', 'frame56.jpg', 'frame99.jpg', 'frame25.jpg', 'frame5.jpg', 'frame24.jpg', 'frame33.jpg', 'frame92.jpg', 'frame0.jpg', 'frame17.jpg', 'frame90.jpg', 'frame84.jpg', 'frame86.jpg', 'frame13.jpg', 'frame40.jpg', 'frame63.jpg', 'frame60.jpg', 'frame65.jpg', 'frame11.jpg', 'frame102.jpg', 'frame36.jpg', 'frame61.jpg', 'frame49.jpg', 'frame10.jpg', 'frame39.jpg', 'frame27.jpg', 'frame89.jpg', 'frame53.jpg', 'frame32.jpg', 'frame87.jpg', 'frame44.jpg', 'frame98.jpg', 'frame43.jpg', 'frame74.jpg', 'frame80.jpg', 'frame41.jpg', 'frame21.jpg', 'frame35.jpg', 'frame96.jpg', 'frame20.jpg', 'frame48.jpg', 'frame91.jpg', 'frame42.jpg', 'frame28.jpg', 'frame100.jpg', 'frame1.jpg', 'frame64.jpg', 'frame23.jpg', 'frame50.jpg', 'frame72.jpg', 'frame67.jpg', 'frame46.jpg', 'frame31.jpg', 'frame19.jpg', 'frame68.jpg', 'frame62.jpg', 'frame14.jpg', 'frame26.jpg', 'frame94.jpg', 'frame38.jpg', 'frame85.jpg', 'frame69.jpg']\n"
     ]
    }
   ],
   "source": [
    "gestures = os.listdir(path)\n",
    "print(gestures)"
   ]
  },
  {
   "cell_type": "code",
   "execution_count": 5,
   "metadata": {},
   "outputs": [],
   "source": [
    "try:     \n",
    "    if not os.path.exists(path2): \n",
    "        os.makedirs(path2) \n",
    "except OSError: \n",
    "    print ('Error: Creating directory of data') \n",
    "\n",
    "for cx in gestures:\n",
    "    img_path = path +'/' + cx\n",
    "    img = cv2.imread(img_path)\n",
    "    grey = cv2.cvtColor(img, cv2.COLOR_BGR2GRAY)\n",
    "    thresh = cv2.threshold(grey, 127, 255, cv2.THRESH_BINARY_INV+cv2.THRESH_OTSU)[1]\n",
    "    save_img = cv2.resize(thresh, (50,50))\n",
    "    cv2.imwrite(path2 + '/' + cx, save_img)"
   ]
  }
 ],
 "metadata": {
  "kernelspec": {
   "display_name": "Python 3",
   "language": "python",
   "name": "python3"
  },
  "language_info": {
   "codemirror_mode": {
    "name": "ipython",
    "version": 3
   },
   "file_extension": ".py",
   "mimetype": "text/x-python",
   "name": "python",
   "nbconvert_exporter": "python",
   "pygments_lexer": "ipython3",
   "version": "3.7.3"
  }
 },
 "nbformat": 4,
 "nbformat_minor": 2
}
